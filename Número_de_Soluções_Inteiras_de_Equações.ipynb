{
  "nbformat": 4,
  "nbformat_minor": 0,
  "metadata": {
    "colab": {
      "provenance": []
    },
    "kernelspec": {
      "name": "python3",
      "display_name": "Python 3"
    },
    "language_info": {
      "name": "python"
    }
  },
  "cells": [
    {
      "cell_type": "markdown",
      "source": [
        "O Problema\n",
        "Imagina que você tem n bolas idênticas e quer distribuí-las em r urnas. O objetivo é saber de quantas formas diferentes você pode fazer essa distribuição.\n",
        "\n",
        "O Conceito\n",
        "Quando as bolas são idênticas, o que importa não é qual bola vai para qual urna, mas quantas bolas vão para cada urna. Então, o problema se torna encontrar todas as combinações possíveis de quantas bolas vão para cada urna.\n",
        "\n",
        "Vamos usar um exemplo para entender isso.\n",
        "\n",
        "Exemplo Simples\n",
        "Suponha que você tenha 3 bolas idênticas (n = 3) e 2 urnas (r = 2).\n",
        "\n",
        "Vamos representar o número de bolas em cada urna por x₁ e x₂.\n",
        "A soma dessas bolas será x₁ + x₂ = 3, onde x₁ e x₂ são números inteiros não negativos.\n",
        "Agora, vamos listar todas as combinações possíveis para x₁ e x₂:\n",
        "\n",
        "x₁ = 0 e x₂ = 3 (todas as bolas na segunda urna)\n",
        "x₁ = 1 e x₂ = 2 (uma bola na primeira urna, duas na segunda)\n",
        "x₁ = 2 e x₂ = 1 (duas bolas na primeira urna, uma na segunda)\n",
        "x₁ = 3 e x₂ = 0 (todas as bolas na primeira urna)\n",
        "Essas são as 4 formas diferentes de distribuir 3 bolas idênticas em 2 urnas.\n",
        "\n",
        "Como Encontrar o Número de Soluções\n",
        "Para resolver isso de forma geral, usamos o conceito de \"espaços entre objetos\". Imagine as 3 bolas como X X X. Para criar grupos, você precisa de divisores (|) entre elas.\n",
        "\n",
        "Se você tem n bolas, você tem n-1 espaços entre elas onde pode colocar um divisor.\n",
        "Para criar r grupos, você precisa de r-1 divisores.\n",
        "No nosso exemplo:\n",
        "\n",
        "Temos 3 bolas, então há 2 espaços entre elas: X | X | X.\n",
        "Precisamos de 1 divisor para criar 2 grupos, e temos 2 espaços onde colocar esse divisor.\n",
        "O número de formas de escolher esses divisores é dado pela combinação\n",
        "(\n",
        "𝑛\n",
        "−\n",
        "1\n",
        "𝑟\n",
        "−\n",
        "1\n",
        ")\n",
        "(\n",
        "r−1\n",
        "n−1\n",
        "​\n",
        " ).\n",
        "\n",
        "Exemplo Aplicado\n",
        "Para nosso exemplo com 3 bolas e 2 urnas:\n",
        "\n",
        "𝑛\n",
        "−\n",
        "1\n",
        "=\n",
        "2\n",
        "n−1=2 espaços entre as bolas.\n",
        "𝑟\n",
        "−\n",
        "1\n",
        "=\n",
        "1\n",
        "r−1=1 divisor.\n",
        "O número de formas de escolher 1 divisor entre 2 espaços é\n",
        "(\n",
        "2\n",
        "1\n",
        ")\n",
        "=\n",
        "2\n",
        "(\n",
        "1\n",
        "2\n",
        "​\n",
        " )=2.\n",
        "\n",
        "Portanto, existem 4 combinações possíveis, como listamos antes.\n"
      ],
      "metadata": {
        "id": "nJnZFXHvvnmX"
      }
    },
    {
      "cell_type": "code",
      "execution_count": 1,
      "metadata": {
        "colab": {
          "base_uri": "https://localhost:8080/"
        },
        "id": "y7BuICMQviiR",
        "outputId": "d52a1d2e-e74a-4079-aaf6-a5116a88a9ee"
      },
      "outputs": [
        {
          "output_type": "stream",
          "name": "stdout",
          "text": [
            "O número de soluções inteiras não negativas para 3 bolas e 2 urnas é: 4\n"
          ]
        }
      ],
      "source": [
        "import math\n",
        "\n",
        "def count_integer_solutions(n, r):\n",
        "    # Calcula o número de combinações usando a fórmula C(n+r-1, r-1)\n",
        "    return math.comb(n + r - 1, r - 1)\n",
        "\n",
        "# Exemplo de uso\n",
        "n = 3  # número de bolas\n",
        "r = 2  # número de urnas\n",
        "solucoes = count_integer_solutions(n, r)\n",
        "print(f\"O número de soluções inteiras não negativas para {n} bolas e {r} urnas é: {solucoes}\")\n"
      ]
    },
    {
      "cell_type": "code",
      "source": [
        "'''\n",
        "Quantas soluções com valores inteiros não negativos de x, + x, = 3 são possíveis?\n",
        "'''\n",
        "import math\n",
        "\n",
        "def count_integer_solutions(n, r):\n",
        "    # Calcula o número de combinações usando a fórmula C(n+r-1, r-1)\n",
        "    return math.comb(n + r - 1, r - 1)\n",
        "\n",
        "# Resolvendo o problema\n",
        "n = 3  # número de bolas (soma dos valores)\n",
        "r = 2  # número de urnas (quantidade de variáveis)\n",
        "solucoes = count_integer_solutions(n, r)\n",
        "print(f\"O número de soluções inteiras não negativas para x1 + x2 = 3 é: {solucoes}\")\n"
      ],
      "metadata": {
        "colab": {
          "base_uri": "https://localhost:8080/"
        },
        "id": "6xqwdzoPv6fm",
        "outputId": "684bd50e-2ed4-4b2a-d7a2-ee754415a4a5"
      },
      "execution_count": 2,
      "outputs": [
        {
          "output_type": "stream",
          "name": "stdout",
          "text": [
            "O número de soluções inteiras não negativas para x1 + x2 = 3 é: 4\n"
          ]
        }
      ]
    },
    {
      "cell_type": "code",
      "source": [
        "'''\n",
        "Um investidor tem 20 mil reais para aplicar entre 4 investimentos possíveis.\n",
        "Cada aplicação deve ser feita em unidades de mil reais. Se o valor total de 20\n",
        "mil for investido, quantas estratégias de aplicação diferentes são possíveis? E se\n",
        "nem todo o dinheiro for investido?\n",
        "'''\n",
        "import math\n",
        "\n",
        "def count_integer_solutions(n, r):\n",
        "    # Calcula o número de combinações usando a fórmula C(n+r-1, r-1)\n",
        "    return math.comb(n + r - 1, r - 1)\n",
        "\n",
        "# Parte 1: Todo o dinheiro é investido (20 mil reais em 4 investimentos)\n",
        "n = 20  # número de \"bolas\" (mil reais)\n",
        "r = 4   # número de \"urnas\" (investimentos)\n",
        "solucoes_investido = count_integer_solutions(n, r)\n",
        "print(f\"O número de estratégias diferentes para investir 20 mil reais entre 4 investimentos é: {solucoes_investido}\")\n",
        "\n",
        "# Parte 2: Nem todo o dinheiro precisa ser investido (n pode variar de 0 a 20)\n",
        "total_solucoes = 0\n",
        "for i in range(0, n + 1):\n",
        "    total_solucoes += count_integer_solutions(i, r)\n",
        "print(f\"O número total de estratégias diferentes, considerando que nem todo o dinheiro precisa ser investido, é: {total_solucoes}\")\n"
      ],
      "metadata": {
        "colab": {
          "base_uri": "https://localhost:8080/"
        },
        "id": "MUGHxExozW2B",
        "outputId": "20a8318f-fb0f-4388-ef76-f15ca181b3b4"
      },
      "execution_count": 3,
      "outputs": [
        {
          "output_type": "stream",
          "name": "stdout",
          "text": [
            "O número de estratégias diferentes para investir 20 mil reais entre 4 investimentos é: 1771\n",
            "O número total de estratégias diferentes, considerando que nem todo o dinheiro precisa ser investido, é: 10626\n"
          ]
        }
      ]
    },
    {
      "cell_type": "code",
      "source": [],
      "metadata": {
        "id": "x-xQdqvW0Oxy"
      },
      "execution_count": null,
      "outputs": []
    }
  ]
}