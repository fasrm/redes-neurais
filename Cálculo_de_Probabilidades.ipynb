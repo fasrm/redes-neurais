{
  "nbformat": 4,
  "nbformat_minor": 0,
  "metadata": {
    "colab": {
      "provenance": []
    },
    "kernelspec": {
      "name": "python3",
      "display_name": "Python 3"
    },
    "language_info": {
      "name": "python"
    }
  },
  "cells": [
    {
      "cell_type": "markdown",
      "source": [
        "Cálculo de Probabilidades\n",
        "\n",
        "A probabilidade de ocorrer um evento E de um espaço amostral S é:\n",
        "\n",
        "P(E) = número de elementos de (E) / número de elementos de (S)\n"
      ],
      "metadata": {
        "id": "JUhndEanVnj0"
      }
    },
    {
      "cell_type": "code",
      "execution_count": 1,
      "metadata": {
        "colab": {
          "base_uri": "https://localhost:8080/",
          "height": 36
        },
        "id": "-ADYBvyWVhm6",
        "outputId": "6e113017-9dc8-4824-da7f-bd115567da9c"
      },
      "outputs": [
        {
          "output_type": "execute_result",
          "data": {
            "text/plain": [
              "'\\nLanço um dado. QUal a probabilidade sair:\\nA) Número Par\\nB) número 3\\nC) Número maior que\\n'"
            ],
            "application/vnd.google.colaboratory.intrinsic+json": {
              "type": "string"
            }
          },
          "metadata": {},
          "execution_count": 1
        }
      ],
      "source": [
        "'''\n",
        "Lanço um dado. QUal a probabilidade sair:\n",
        "A) Número Par\n",
        "B) número 3\n",
        "C) Número maior que\n",
        "'''"
      ]
    },
    {
      "cell_type": "code",
      "source": [
        "# Informações\n",
        "S = {1,2,3,4,5,6} # Espaço Amostral de um dado\n",
        "nS = len(S) # Número de elementos do Espaço Amostral\n",
        "np = {2,4,6} # Números Pares\n",
        "nnp = len(np) # Quantidade de números pares do espaço amostral\n",
        "\n"
      ],
      "metadata": {
        "id": "m6QWGrEWWDjR"
      },
      "execution_count": 2,
      "outputs": []
    },
    {
      "cell_type": "code",
      "source": [
        "# A)\n",
        "P = nnp / nS\n",
        "print(P)"
      ],
      "metadata": {
        "colab": {
          "base_uri": "https://localhost:8080/"
        },
        "id": "TAolxlfWWY7G",
        "outputId": "5529218a-85e9-4266-b486-9215edc26a8b"
      },
      "execution_count": 3,
      "outputs": [
        {
          "output_type": "stream",
          "name": "stdout",
          "text": [
            "0.5\n"
          ]
        }
      ]
    },
    {
      "cell_type": "code",
      "source": [
        "# B)\n",
        "ne = 1\n",
        "P = ne / nS\n",
        "print(P)"
      ],
      "metadata": {
        "colab": {
          "base_uri": "https://localhost:8080/"
        },
        "id": "fyb5trgyXLv5",
        "outputId": "b9ac84bf-a238-472c-cacf-4d07c7dcbcff"
      },
      "execution_count": 4,
      "outputs": [
        {
          "output_type": "stream",
          "name": "stdout",
          "text": [
            "0.16666666666666666\n"
          ]
        }
      ]
    },
    {
      "cell_type": "code",
      "source": [
        "# C)\n",
        "n = 2\n",
        "P = n / nS\n",
        "print(P)"
      ],
      "metadata": {
        "colab": {
          "base_uri": "https://localhost:8080/"
        },
        "id": "ZzAtO7-5Xat_",
        "outputId": "786bf924-1764-4fc5-aaff-3c9fcffe702b"
      },
      "execution_count": 5,
      "outputs": [
        {
          "output_type": "stream",
          "name": "stdout",
          "text": [
            "0.3333333333333333\n"
          ]
        }
      ]
    },
    {
      "cell_type": "code",
      "source": [
        "'''\n",
        "2) Uma moeda é lançada 3 vezes seguidas.\n",
        "Qual é a probabilidade de sair exatamente\n",
        "uma cara?\n",
        "'''\n",
        "# P(E) = n(E) / n(S)\n",
        "\n",
        "# Espaço amostral\n",
        "# S = {CCC, CCK, CKC, KCC, CKK, KCK, KKC, KKK}\n",
        "# n(S) = 8\n",
        "espaco_amostral = 8\n",
        "numero_elementos_espaco_amostral = 3\n",
        "\n",
        "probabilidade = numero_elementos_espaco_amostral / espaco_amostral\n",
        "print(probabilidade)"
      ],
      "metadata": {
        "colab": {
          "base_uri": "https://localhost:8080/"
        },
        "id": "Hce_R6rkXmCW",
        "outputId": "3e955487-8029-4d07-a6f0-b946fb04f44a"
      },
      "execution_count": 6,
      "outputs": [
        {
          "output_type": "stream",
          "name": "stdout",
          "text": [
            "0.375\n"
          ]
        }
      ]
    },
    {
      "cell_type": "code",
      "source": [
        "# Versão melhorada\n",
        "from itertools import product\n",
        "\n",
        "def calcular_probabilidade_de_uma_cara(lancamentos: int, ocorrencias_cara: int) -> float:\n",
        "    # Definindo o espaço amostral\n",
        "    resultados_possiveis = list(product(['C', 'K'], repeat=lancamentos))\n",
        "\n",
        "    # Contando os eventos favoráveis (exatamente uma cara)\n",
        "    eventos_favoraveis = [resultado for resultado in resultados_possiveis if resultado.count('C') == ocorrencias_cara]\n",
        "\n",
        "    # Calculando a probabilidade\n",
        "    probabilidade = len(eventos_favoraveis) / len(resultados_possiveis)\n",
        "\n",
        "    return probabilidade\n",
        "\n",
        "# Parâmetros: 3 lançamentos, exatamente 1 cara\n",
        "lancamentos = 3\n",
        "ocorrencias_cara = 1\n",
        "\n",
        "probabilidade = calcular_probabilidade_de_uma_cara(lancamentos, ocorrencias_cara)\n",
        "print(f'A probabilidade de sair exatamente {ocorrencias_cara} cara(s) em {lancamentos} lançamentos é {probabilidade:.4f}')\n"
      ],
      "metadata": {
        "colab": {
          "base_uri": "https://localhost:8080/"
        },
        "id": "9Aqq5Y59Y_WU",
        "outputId": "0cbee693-143a-41d6-f8f2-8e28a622e30b"
      },
      "execution_count": 7,
      "outputs": [
        {
          "output_type": "stream",
          "name": "stdout",
          "text": [
            "A probabilidade de sair exatamente 1 cara(s) em 3 lançamentos é 0.3750\n"
          ]
        }
      ]
    },
    {
      "cell_type": "code",
      "source": [
        "# Colocando o resultado em porcentagem\n",
        "from itertools import product\n",
        "\n",
        "def calcular_probabilidade_de_uma_cara(lancamentos: int, ocorrencias_cara: int) -> float:\n",
        "    # Definindo o espaço amostral\n",
        "    resultados_possiveis = list(product(['C', 'K'], repeat=lancamentos))\n",
        "\n",
        "    # Contando os eventos favoráveis (exatamente uma cara)\n",
        "    eventos_favoraveis = [resultado for resultado in resultados_possiveis if resultado.count('C') == ocorrencias_cara]\n",
        "\n",
        "    # Calculando a probabilidade\n",
        "    probabilidade = len(eventos_favoraveis) / len(resultados_possiveis)\n",
        "\n",
        "    return probabilidade * 100  # Convertendo para porcentagem\n",
        "\n",
        "# Parâmetros: 3 lançamentos, exatamente 1 cara\n",
        "lancamentos = 3\n",
        "ocorrencias_cara = 1\n",
        "\n",
        "probabilidade = calcular_probabilidade_de_uma_cara(lancamentos, ocorrencias_cara)\n",
        "print(f'A probabilidade de sair exatamente {ocorrencias_cara} cara(s) em {lancamentos} lançamentos é {probabilidade:.2f}%')\n"
      ],
      "metadata": {
        "colab": {
          "base_uri": "https://localhost:8080/"
        },
        "id": "CNJGQSP6ZCYS",
        "outputId": "dd0253a4-5887-4a62-bf7d-46c9e04012d8"
      },
      "execution_count": 8,
      "outputs": [
        {
          "output_type": "stream",
          "name": "stdout",
          "text": [
            "A probabilidade de sair exatamente 1 cara(s) em 3 lançamentos é 37.50%\n"
          ]
        }
      ]
    },
    {
      "cell_type": "code",
      "source": [
        "'''\n",
        "Eu tenho um circulo com 6 pontos: A,B,C,D,E,F\n",
        "Ao escolher 3 pontos a seguir, qual é a probabilidade de que formem o triangulo ABC?\n",
        "'''\n",
        "from math import comb\n",
        "\n",
        "def calcular_probabilidade_triangulo_ABC(pontos_totais: int, pontos_escolhidos: int) -> float:\n",
        "    # Número total de combinações de 3 pontos entre os 6 disponíveis\n",
        "    combinacoes_totais = comb(pontos_totais, pontos_escolhidos)\n",
        "\n",
        "    # Número de eventos favoráveis (exatamente 1: {A, B, C})\n",
        "    eventos_favoraveis = 1\n",
        "\n",
        "    # Probabilidade\n",
        "    probabilidade = eventos_favoraveis / combinacoes_totais\n",
        "\n",
        "    return probabilidade * 100  # Convertendo para porcentagem\n",
        "\n",
        "# Parâmetros: 6 pontos no total, escolhendo 3\n",
        "pontos_totais = 6\n",
        "pontos_escolhidos = 3\n",
        "\n",
        "probabilidade = calcular_probabilidade_triangulo_ABC(pontos_totais, pontos_escolhidos)\n",
        "print(f'A probabilidade de que os pontos escolhidos formem o triângulo ABC é {probabilidade:.2f}%')\n"
      ],
      "metadata": {
        "colab": {
          "base_uri": "https://localhost:8080/"
        },
        "id": "eOLY7pRqZkB_",
        "outputId": "3ee98cda-defd-4fd3-88f2-d9947ecd52af"
      },
      "execution_count": 9,
      "outputs": [
        {
          "output_type": "stream",
          "name": "stdout",
          "text": [
            "A probabilidade de que os pontos escolhidos formem o triângulo ABC é 5.00%\n"
          ]
        }
      ]
    },
    {
      "cell_type": "code",
      "source": [
        "'''\n",
        "Explicação Básica da Probabilidade\n",
        "A probabilidade de ocorrer um evento E de um espaço amostral S é determinada por:\n",
        "\n",
        "P(E) = n(E) / n(S)\n",
        "\n",
        "Vamos imaginar que você está brincando com um dado. O dado tem 6 lados, e cada lado tem um número de 1 a 6. Quando você joga o dado, a chance de qualquer número sair é igual, certo?\n",
        "\n",
        "O espaço amostral S é simplesmente todas as possíveis saídas desse dado, ou seja, {1, 2, 3, 4, 5, 6}. No total, são 6 resultados possíveis. Agora, digamos que você quer saber a probabilidade de tirar um número específico, por exemplo, o número 3. Esse é o evento E. Como o dado tem 6 lados, e só um deles é o 3, o número de maneiras de tirar um 3 é 1.\n",
        "\n",
        "A fórmula da probabilidade P(E) é:\n",
        "\n",
        "P(E) = n(E) / n(S)\n",
        "\n",
        "Aqui:\n",
        "- n(E) é o número de resultados favoráveis, ou seja, 1 (porque só existe um 3).\n",
        "- n(S) é o número total de resultados possíveis, ou seja, 6.\n",
        "\n",
        "Assim, a probabilidade de tirar um 3 é:\n",
        "\n",
        "P(E) = 1/6\n",
        "\n",
        "Por que isso funciona?\n",
        "\n",
        "Funciona porque a probabilidade mede o \"quão provável\" é que algo aconteça. Dividimos o número de formas pelas quais o evento desejado pode ocorrer (número de casos favoráveis) pelo número total de resultados possíveis. Se houver muitas maneiras de o evento acontecer e poucas maneiras de ele não acontecer, a probabilidade será maior. Se houver poucas maneiras de ele acontecer e muitas maneiras de ele não acontecer, a probabilidade será menor.\n",
        "\n",
        "No caso do dado, como todos os números têm a mesma chance de sair, dividir o número de casos favoráveis pelo total de casos possíveis nos dá a chance de um evento específico ocorrer. É como dividir a parte pelo todo para ver \"quanto\" daquela parte ocupa do todo.\n",
        "\n",
        "Se for algo diferente de um dado, como escolher cartas em um baralho, você faria a mesma coisa: veria quantas cartas são favoráveis ao seu evento (por exemplo, quantas cartas são Ás) e dividia pelo número total de cartas no baralho. Isso te dá a probabilidade do evento acontecer.\n",
        "Exemplo Aplicado à Segurança da Informação\n",
        "Vamos aplicar esse conceito de probabilidade à Segurança da Informação com um exemplo simples.\n",
        "\n",
        "Imagine que você está gerenciando a segurança de um servidor e sabe que existem 10 portas abertas (portas de rede), mas apenas uma delas tem uma vulnerabilidade conhecida que pode ser explorada por um atacante. Essas portas são como as faces de um dado, onde cada porta representa uma possível \"face\" que pode ser alvo de um ataque.\n",
        "\n",
        "Aqui, o espaço amostral S é o conjunto de todas as portas abertas, ou seja, 10 portas.\n",
        "\n",
        "O evento E é a situação em que um atacante tenta explorar a porta vulnerável específica. Como existe apenas uma porta vulnerável, n(E) = 1.\n",
        "\n",
        "A probabilidade de um atacante escolher aleatoriamente a porta vulnerável P(E) seria:\n",
        "\n",
        "P(E) = n(E) / n(S) = 1/10 = 0,1\n",
        "\n",
        "Então, a probabilidade de um atacante, ao escolher aleatoriamente uma porta para explorar, acertar diretamente a porta vulnerável é de 0,1, ou 10%.\n",
        "\n",
        "Por que isso é importante na Segurança da Informação?\n",
        "\n",
        "Entender essa probabilidade ajuda você a avaliar o risco. Se você tem muitas portas abertas e poucas vulnerabilidades, a probabilidade de um ataque bem-sucedido ao escolher aleatoriamente é baixa. Mas, se mais portas estiverem vulneráveis, a probabilidade de um ataque bem-sucedido aumenta. Isso te mostra a importância de minimizar o número de portas abertas e reduzir as vulnerabilidades, para diminuir a probabilidade de um ataque bem-sucedido.\n",
        "\n",
        "Ou seja, ao controlar o número de vulnerabilidades (diminuindo n(E)) ou reduzindo a superfície de ataque (diminuindo n(S) ao fechar portas desnecessárias), você reduz o risco para a segurança do sistema.\n",
        "'''"
      ],
      "metadata": {
        "id": "hVIpyqrYZ-VS",
        "colab": {
          "base_uri": "https://localhost:8080/",
          "height": 161
        },
        "outputId": "17aa618f-6787-4916-ec32-8ea8828e9118"
      },
      "execution_count": 10,
      "outputs": [
        {
          "output_type": "execute_result",
          "data": {
            "text/plain": [
              "'\\nExplicação Básica da Probabilidade\\nA probabilidade de ocorrer um evento E de um espaço amostral S é determinada por:\\n\\nP(E) = n(E) / n(S)\\n\\nVamos imaginar que você está brincando com um dado. O dado tem 6 lados, e cada lado tem um número de 1 a 6. Quando você joga o dado, a chance de qualquer número sair é igual, certo?\\n\\nO espaço amostral S é simplesmente todas as possíveis saídas desse dado, ou seja, {1, 2, 3, 4, 5, 6}. No total, são 6 resultados possíveis. Agora, digamos que você quer saber a probabilidade de tirar um número específico, por exemplo, o número 3. Esse é o evento E. Como o dado tem 6 lados, e só um deles é o 3, o número de maneiras de tirar um 3 é 1.\\n\\nA fórmula da probabilidade P(E) é:\\n\\nP(E) = n(E) / n(S)\\n\\nAqui:\\n- n(E) é o número de resultados favoráveis, ou seja, 1 (porque só existe um 3).\\n- n(S) é o número total de resultados possíveis, ou seja, 6.\\n\\nAssim, a probabilidade de tirar um 3 é:\\n\\nP(E) = 1/6\\n\\nPor que isso funciona?\\n\\nFunciona porque a probabilidade mede o \"quão provável\" é que algo aconteça. Dividimos o número de formas pelas quais o evento desejado pode ocorrer (número de casos favoráveis) pelo número total de resultados possíveis. Se houver muitas maneiras de o evento acontecer e poucas maneiras de ele não acontecer, a probabilidade será maior. Se houver poucas maneiras de ele acontecer e muitas maneiras de ele não acontecer, a probabilidade será menor.\\n\\nNo caso do dado, como todos os números têm a mesma chance de sair, dividir o número de casos favoráveis pelo total de casos possíveis nos dá a chance de um evento específico ocorrer. É como dividir a parte pelo todo para ver \"quanto\" daquela parte ocupa do todo.\\n\\nSe for algo diferente de um dado, como escolher cartas em um baralho, você faria a mesma coisa: veria quantas cartas são favoráveis ao seu evento (por exemplo, quantas cartas são Ás) e dividia pelo número total de cartas no baralho. Isso te dá a probabilidade do evento acontecer.\\nExemplo Aplicado à Segurança da Informação\\nVamos aplicar esse conceito de probabilidade à Segurança da Informação com um exemplo simples.\\n\\nImagine que você está gerenciando a segurança de um servidor e sabe que existem 10 portas abertas (portas de rede), mas apenas uma delas tem uma vulnerabilidade conhecida que pode ser explorada por um atacante. Essas portas são como as faces de um dado, onde cada porta representa uma possível \"face\" que pode ser alvo de um ataque.\\n\\nAqui, o espaço amostral S é o conjunto de todas as portas abertas, ou seja, 10 portas.\\n\\nO evento E é a situação em que um atacante tenta explorar a porta vulnerável específica. Como existe apenas uma porta vulnerável, n(E) = 1.\\n\\nA probabilidade de um atacante escolher aleatoriamente a porta vulnerável P(E) seria:\\n\\nP(E) = n(E) / n(S) = 1/10 = 0,1\\n\\nEntão, a probabilidade de um atacante, ao escolher aleatoriamente uma porta para explorar, acertar diretamente a porta vulnerável é de 0,1, ou 10%.\\n\\nPor que isso é importante na Segurança da Informação?\\n\\nEntender essa probabilidade ajuda você a avaliar o risco. Se você tem muitas portas abertas e poucas vulnerabilidades, a probabilidade de um ataque bem-sucedido ao escolher aleatoriamente é baixa. Mas, se mais portas estiverem vulneráveis, a probabilidade de um ataque bem-sucedido aumenta. Isso te mostra a importância de minimizar o número de portas abertas e reduzir as vulnerabilidades, para diminuir a probabilidade de um ataque bem-sucedido.\\n\\nOu seja, ao controlar o número de vulnerabilidades (diminuindo n(E)) ou reduzindo a superfície de ataque (diminuindo n(S) ao fechar portas desnecessárias), você reduz o risco para a segurança do sistema.\\n'"
            ],
            "application/vnd.google.colaboratory.intrinsic+json": {
              "type": "string"
            }
          },
          "metadata": {},
          "execution_count": 10
        }
      ]
    },
    {
      "cell_type": "code",
      "source": [
        "def calcular_probabilidade(eventos, espaco_amostral):\n",
        "    if espaco_amostral == 0:\n",
        "        return \"O espaço amostral não pode ser zero.\"\n",
        "\n",
        "    probabilidade = eventos / espaco_amostral\n",
        "    probabilidade_porcentagem = probabilidade * 100\n",
        "    return f\"{probabilidade_porcentagem:.2f}%\"\n",
        "\n",
        "# Exemplo de uso\n",
        "numero_eventos = 1\n",
        "numero_espaco_amostral = 10\n",
        "calcular_probabilidade(numero_eventos, numero_espaco_amostral)\n"
      ],
      "metadata": {
        "colab": {
          "base_uri": "https://localhost:8080/",
          "height": 36
        },
        "id": "r4rt11ykCjBr",
        "outputId": "4526a856-fc04-44c1-bb93-59dbcf5a0df5"
      },
      "execution_count": 11,
      "outputs": [
        {
          "output_type": "execute_result",
          "data": {
            "text/plain": [
              "'10.00%'"
            ],
            "application/vnd.google.colaboratory.intrinsic+json": {
              "type": "string"
            }
          },
          "metadata": {},
          "execution_count": 11
        }
      ]
    },
    {
      "cell_type": "markdown",
      "source": [
        "**PROBABILIDADE DA UNIÃO DE DOIS EVENTOS**\n",
        "\n",
        "P(AUB) = P(A) + P(B) - P(A intersecção B)"
      ],
      "metadata": {
        "id": "-Jtkuc6VDktg"
      }
    },
    {
      "cell_type": "code",
      "source": [
        "'''\n",
        "Numa urna há 15 cartões, numerados de 1 a 15. Retira-se um carão ao acaso.\n",
        "Qual é a probabilidade de ser múltiplo de 2 ou múltiplo de 3?\n",
        "'''\n",
        "\n",
        "# P(AUB) = P(A) + P(B) - P(A intersecção B)\n",
        "\n",
        "n_S = 15 # total de cartões\n",
        "A = {2,4,6,8,10,12,14} # evento A - múltiplos de 2\n",
        "n_A = len(A)\n",
        "P_A = n_A / n_S\n",
        "print(P_A * 100)\n"
      ],
      "metadata": {
        "colab": {
          "base_uri": "https://localhost:8080/"
        },
        "id": "IIAG1K7-Cxvc",
        "outputId": "bea932bb-8f3e-4d57-fc47-9820e4336c0b"
      },
      "execution_count": 12,
      "outputs": [
        {
          "output_type": "stream",
          "name": "stdout",
          "text": [
            "46.666666666666664\n"
          ]
        }
      ]
    },
    {
      "cell_type": "code",
      "source": [
        "B = {3,6,9,12,15}\n",
        "n_B = len(B)\n",
        "P_B = n_B / n_S\n",
        "print(P_B * 100)"
      ],
      "metadata": {
        "colab": {
          "base_uri": "https://localhost:8080/"
        },
        "id": "V1rn_05EFGKZ",
        "outputId": "130371d0-cba7-46c4-e484-5c9fbcf4c234"
      },
      "execution_count": 13,
      "outputs": [
        {
          "output_type": "stream",
          "name": "stdout",
          "text": [
            "33.33333333333333\n"
          ]
        }
      ]
    },
    {
      "cell_type": "code",
      "source": [
        "def calcular_interseccao(conjunto_a, conjunto_b):\n",
        "    interseccao = conjunto_a.intersection(conjunto_b)\n",
        "    return interseccao\n",
        "\n",
        "resultado_interseccao = calcular_interseccao(A, B)\n",
        "print(resultado_interseccao)"
      ],
      "metadata": {
        "colab": {
          "base_uri": "https://localhost:8080/"
        },
        "id": "Ihy2Sp_JFYL0",
        "outputId": "c015b02b-ff02-4692-9ca1-614d5c647ed7"
      },
      "execution_count": 14,
      "outputs": [
        {
          "output_type": "stream",
          "name": "stdout",
          "text": [
            "{12, 6}\n"
          ]
        }
      ]
    },
    {
      "cell_type": "code",
      "source": [
        "A_interseccao_B = len(resultado_interseccao)\n",
        "print(A_interseccao_B)"
      ],
      "metadata": {
        "colab": {
          "base_uri": "https://localhost:8080/"
        },
        "id": "b6n25WAOGC-0",
        "outputId": "879c07f9-fc26-46a2-ad6a-ea862eb36150"
      },
      "execution_count": 15,
      "outputs": [
        {
          "output_type": "stream",
          "name": "stdout",
          "text": [
            "2\n"
          ]
        }
      ]
    },
    {
      "cell_type": "code",
      "source": [
        "probabilidade_A_U_B = P_A + P_B - A_interseccao_B\n",
        "print(probabilidade_A_U_B)"
      ],
      "metadata": {
        "colab": {
          "base_uri": "https://localhost:8080/"
        },
        "id": "raksEe86GQ-V",
        "outputId": "cdc3907a-aea7-4d0a-dbd4-612ade9955df"
      },
      "execution_count": 16,
      "outputs": [
        {
          "output_type": "stream",
          "name": "stdout",
          "text": [
            "-1.2\n"
          ]
        }
      ]
    },
    {
      "cell_type": "code",
      "source": [
        "print(A)"
      ],
      "metadata": {
        "colab": {
          "base_uri": "https://localhost:8080/"
        },
        "id": "kjMN8_PIHTIk",
        "outputId": "ca499080-49cc-427d-a1f8-9671c4f29d7f"
      },
      "execution_count": 17,
      "outputs": [
        {
          "output_type": "stream",
          "name": "stdout",
          "text": [
            "{2, 4, 6, 8, 10, 12, 14}\n"
          ]
        }
      ]
    },
    {
      "cell_type": "code",
      "source": [
        "print(B)"
      ],
      "metadata": {
        "colab": {
          "base_uri": "https://localhost:8080/"
        },
        "id": "rKXRBWYeHVG8",
        "outputId": "4c5ec9aa-a3c6-4b4f-b509-caa9a3148cf1"
      },
      "execution_count": 18,
      "outputs": [
        {
          "output_type": "stream",
          "name": "stdout",
          "text": [
            "{3, 6, 9, 12, 15}\n"
          ]
        }
      ]
    },
    {
      "cell_type": "code",
      "source": [
        "def calcular_probabilidade_multiplo_de_2_ou_3():\n",
        "    # Definindo o espaço amostral e os múltiplos de 2, 3, e a interseção (múltiplos de 6)\n",
        "    espaco_amostral = 15\n",
        "\n",
        "    multiplos_de_2 = {2, 4, 6, 8, 10, 12, 14}  # 7 números\n",
        "    multiplos_de_3 = {3, 6, 9, 12, 15}        # 5 números\n",
        "    interseccao = multiplos_de_2.intersection(multiplos_de_3)  # 2 números (6, 12)\n",
        "\n",
        "    # Aplicando a fórmula da probabilidade da união\n",
        "    probabilidade = (len(multiplos_de_2) + len(multiplos_de_3) - len(interseccao)) / espaco_amostral\n",
        "\n",
        "    return probabilidade\n",
        "\n",
        "# Exemplo de uso\n",
        "probabilidade = calcular_probabilidade_multiplo_de_2_ou_3()\n",
        "probabilidade\n"
      ],
      "metadata": {
        "colab": {
          "base_uri": "https://localhost:8080/"
        },
        "id": "lwnSGZunHJnc",
        "outputId": "f6dc051d-8f15-42b1-a6b4-1be095a4e008"
      },
      "execution_count": 19,
      "outputs": [
        {
          "output_type": "execute_result",
          "data": {
            "text/plain": [
              "0.6666666666666666"
            ]
          },
          "metadata": {},
          "execution_count": 19
        }
      ]
    },
    {
      "cell_type": "code",
      "source": [
        "def calcular_probabilidade_uniao_porcentagem(conjunto_a, conjunto_b, espaco_amostral):\n",
        "    # Calcular a união dos conjuntos\n",
        "    uniao = conjunto_a.union(conjunto_b)\n",
        "\n",
        "    # Probabilidade da união: |A ∪ B| / |S|\n",
        "    probabilidade_uniao = (len(uniao) / espaco_amostral) * 100\n",
        "\n",
        "    return f\"{probabilidade_uniao:.2f}%\"\n",
        "\n",
        "# Exemplo de uso\n",
        "A = {2, 4, 6, 8, 10, 12, 14}  # Múltiplos de 2\n",
        "B = {3, 6, 9, 12, 15}         # Múltiplos de 3\n",
        "espaco_amostral = 15           # Total de números de 1 a 15\n",
        "\n",
        "probabilidade = calcular_probabilidade_uniao_porcentagem(A, B, espaco_amostral)\n",
        "probabilidade\n"
      ],
      "metadata": {
        "colab": {
          "base_uri": "https://localhost:8080/",
          "height": 36
        },
        "id": "GyTXbagBHw3Q",
        "outputId": "ff27c8af-9ab5-4093-8785-5b1ecb22fcae"
      },
      "execution_count": 20,
      "outputs": [
        {
          "output_type": "execute_result",
          "data": {
            "text/plain": [
              "'66.67%'"
            ],
            "application/vnd.google.colaboratory.intrinsic+json": {
              "type": "string"
            }
          },
          "metadata": {},
          "execution_count": 20
        }
      ]
    },
    {
      "cell_type": "code",
      "source": [
        "'''\n",
        "Dois dados são lançados simultaneamente. Qual é a probabilidade de sair uma\n",
        "soma 6 ou dois númneros iguais?\n",
        "'''\n",
        "\n",
        "espaco_amostral = 36 # Usando principio fundamental da contagem\n",
        "A = {(1,5), (5,1), (2,4), (4,2), (3,3)}\n",
        "B = {(1,1), (2,2), (3,3), (4,4), (5,5), (6,6)}\n",
        "\n",
        "probabilidade = calcular_probabilidade_uniao_porcentagem(A, B, espaco_amostral)\n",
        "probabilidade"
      ],
      "metadata": {
        "colab": {
          "base_uri": "https://localhost:8080/",
          "height": 36
        },
        "id": "EQGh-AMqH_tM",
        "outputId": "9a785f3f-1ad7-42a8-f1ef-488b9e47431c"
      },
      "execution_count": 21,
      "outputs": [
        {
          "output_type": "execute_result",
          "data": {
            "text/plain": [
              "'27.78%'"
            ],
            "application/vnd.google.colaboratory.intrinsic+json": {
              "type": "string"
            }
          },
          "metadata": {},
          "execution_count": 21
        }
      ]
    },
    {
      "cell_type": "code",
      "source": [
        "'''\n",
        "Vamos considerar um exemplo realista na área de segurança da informação relacionado a ataques cibernéticos, especificamente ataques de phishing e malware.\n",
        "\n",
        "Cenário:\n",
        "Em um determinado período de tempo, uma empresa registrou os seguintes incidentes:\n",
        "\n",
        "A: Ataques de phishing detectados em 150 ocasiões.\n",
        "B: Incidentes de malware detectados em 100 ocasiões.\n",
        "Alguns incidentes envolveram tanto phishing quanto malware (por exemplo, um e-mail de phishing que continha um anexo malicioso). Esses incidentes de interseção ocorreram 40 vezes.\n",
        "\n",
        "Objetivo:\n",
        "Queremos calcular a probabilidade de que um incidente aleatório seja ou um ataque de phishing, ou um ataque de malware, ou ambos.\n",
        "\n",
        "Passos:\n",
        "Definir os conjuntos:\n",
        "\n",
        "Conjunto A: Ataques de phishing (150 eventos).\n",
        "Conjunto B: Incidentes de malware (100 eventos).\n",
        "Interseção A ∩ B: Incidentes envolvendo tanto phishing quanto malware (40 eventos).\n",
        "'''\n",
        "\n",
        "def calcular_probabilidade_uniao_eventos(incidentes_phishing, incidentes_malware, intersecao, total_incidentes):\n",
        "    # Calcular a probabilidade da união\n",
        "    probabilidade_uniao = ((incidentes_phishing + incidentes_malware - intersecao) / total_incidentes) * 100\n",
        "    return f\"{probabilidade_uniao:.2f}%\"\n",
        "\n",
        "# Dados reais\n",
        "incidentes_phishing = 150  # Ataques de phishing\n",
        "incidentes_malware = 100   # Incidentes de malware\n",
        "intersecao = 40            # Incidentes que envolvem tanto phishing quanto malware\n",
        "total_incidentes = 500     # Total de incidentes registrados\n",
        "\n",
        "# Calcular a probabilidade\n",
        "probabilidade = calcular_probabilidade_uniao_eventos(incidentes_phishing, incidentes_malware, intersecao, total_incidentes)\n",
        "print(probabilidade)\n"
      ],
      "metadata": {
        "colab": {
          "base_uri": "https://localhost:8080/"
        },
        "id": "VuBeL2LNI9mW",
        "outputId": "cb0349f5-e87b-4f9e-be06-87a417a5b39b"
      },
      "execution_count": 22,
      "outputs": [
        {
          "output_type": "stream",
          "name": "stdout",
          "text": [
            "42.00%\n"
          ]
        }
      ]
    },
    {
      "cell_type": "markdown",
      "source": [
        "**PROBABILIDADE CONDICIONAL**\n",
        "\n",
        "Probabilidade de ocorrer um evento A sabendo-se que já ocorreu um evento B é:\n",
        "\n",
        "P(A/B) = P(A interseccao B) / P(B)  \n",
        "\n",
        "*OBS: (P(B) !=  0)\n"
      ],
      "metadata": {
        "id": "QvQgZrJxMpZm"
      }
    },
    {
      "cell_type": "code",
      "source": [
        "'''\n",
        "Uma urna contêm 15 bolas numeradas de 1 a 15. Retira-se uma bola ao acaso\n",
        "vevê-se que o número é maior que 6. Qual é a probabilidade desse número\n",
        "ser múltiplo de 3?\n",
        "'''\n",
        "\n",
        "A = {3,6,9,12,15}\n",
        "B = {7,8,9,10,11,12,13,14,15} # Números maiores que 6\n",
        "\n",
        "P_B = 9 / 15\n",
        "A_interseccao_B = {9,12,15}\n",
        "P_A_interseccao_B_ = 3/15\n",
        "# P_A_B = 3/15/9/15 = 3/9 = 1/3"
      ],
      "metadata": {
        "id": "FX50KlWz4Doo"
      },
      "execution_count": 23,
      "outputs": []
    },
    {
      "cell_type": "code",
      "source": [
        "# Fazendo sem fórmula\n",
        "n_S = 9 # Espaço amostral\n",
        "\n",
        "# A: M(3) = {9,12,15}\n",
        "# P(A) = 3/9 = 1/3\n"
      ],
      "metadata": {
        "id": "_XcmJaQe5Z_5"
      },
      "execution_count": 24,
      "outputs": []
    },
    {
      "cell_type": "code",
      "source": [
        "def calcular_probabilidade_condicional():\n",
        "    # Espaço amostral condicional: Números maiores que 6\n",
        "    espaco_amostral_condicional = {7, 8, 9, 10, 11, 12, 13, 14, 15}\n",
        "\n",
        "    # Números múltiplos de 3 no espaço amostral condicional\n",
        "    multiplos_de_3 = {9, 12, 15}\n",
        "\n",
        "    # Calcular a probabilidade condicional\n",
        "    probabilidade = len(multiplos_de_3) / len(espaco_amostral_condicional)\n",
        "\n",
        "    return probabilidade\n",
        "\n",
        "# Calcular a probabilidade\n",
        "probabilidade = calcular_probabilidade_condicional()\n",
        "probabilidade_porcentagem = probabilidade * 100\n",
        "print(f\"A probabilidade é {probabilidade_porcentagem:.2f}%\")\n"
      ],
      "metadata": {
        "colab": {
          "base_uri": "https://localhost:8080/"
        },
        "id": "3rn7to2d56ZK",
        "outputId": "14fc14d7-e5ed-488e-d91c-086a692c6aee"
      },
      "execution_count": 25,
      "outputs": [
        {
          "output_type": "stream",
          "name": "stdout",
          "text": [
            "A probabilidade é 33.33%\n"
          ]
        }
      ]
    },
    {
      "cell_type": "code",
      "source": [
        "'''\n",
        "Exemplo de Probabilidade Condicional em Segurança da Informação: Detecção de Ataques\n",
        "Cenário:\n",
        "Uma empresa de cibersegurança monitora o tráfego de rede para detectar ataques. Eles utilizam um sistema de detecção de intrusões (IDS) que analisa pacotes de rede e gera alertas. No último mês, a empresa registrou as seguintes estatísticas:\n",
        "\n",
        "Total de pacotes analisados: 1.000.000 pacotes.\n",
        "Pacotes marcados como suspeitos pelo IDS: 10.000 pacotes.\n",
        "Pacotes que realmente continham ataques confirmados (após análise humana): 500 pacotes.\n",
        "Agora, a empresa quer saber: dado que um pacote foi marcado como suspeito pelo IDS, qual é a probabilidade de que ele realmente contenha um ataque?\n",
        "\n",
        "Passos para Resolver:\n",
        "Identificar o espaço amostral condicional:\n",
        "\n",
        "O espaço amostral condicional consiste nos pacotes marcados como suspeitos pelo IDS, ou seja, 10.000 pacotes.\n",
        "Identificar os casos favoráveis:\n",
        "\n",
        "Os casos favoráveis são os pacotes que realmente continham ataques confirmados, ou seja, 500 pacotes.\n",
        "Calcular a probabilidade condicional:\n",
        "\n",
        "A probabilidade condicional é a razão entre o número de pacotes que realmente continham ataques e o número total de pacotes marcados como suspeitos.\n",
        "'''\n",
        "\n",
        "def calcular_probabilidade_condicional_ataque(pacotes_suspeitos, ataques_confirmados):\n",
        "    # Calcular a probabilidade condicional\n",
        "    probabilidade = ataques_confirmados / pacotes_suspeitos\n",
        "    return probabilidade * 100\n",
        "\n",
        "# Dados reais\n",
        "pacotes_suspeitos = 10000   # Pacotes marcados como suspeitos\n",
        "ataques_confirmados = 500   # Ataques confirmados após análise\n",
        "\n",
        "# Calcular a probabilidade condicional\n",
        "probabilidade_porcentagem = calcular_probabilidade_condicional_ataque(pacotes_suspeitos, ataques_confirmados)\n",
        "print(f\"A probabilidade de que um pacote marcado como suspeito contenha um ataque é {probabilidade_porcentagem:.2f}%\")\n"
      ],
      "metadata": {
        "colab": {
          "base_uri": "https://localhost:8080/"
        },
        "id": "6GtFhv-L572f",
        "outputId": "f5f6f0aa-cdcf-4833-ce67-9873d78c08b6"
      },
      "execution_count": 26,
      "outputs": [
        {
          "output_type": "stream",
          "name": "stdout",
          "text": [
            "A probabilidade de que um pacote marcado como suspeito contenha um ataque é 5.00%\n"
          ]
        }
      ]
    },
    {
      "cell_type": "markdown",
      "source": [
        "**PRODUTO DE PROBABILIDADES**"
      ],
      "metadata": {
        "id": "dWpPci5Y6o6c"
      }
    },
    {
      "cell_type": "code",
      "source": [
        "# P(A intersecção B) = P(A/B) * P(B)\n",
        "# Se A e B são eventos independentes, etão: P(A intersecção B) = P(A) * P(B)"
      ],
      "metadata": {
        "id": "mOkeKFrO6cUq"
      },
      "execution_count": 27,
      "outputs": []
    },
    {
      "cell_type": "code",
      "source": [
        "'''\n",
        "Numa urna há 5 bolas azuis e 3 brancas. Duas são retiradas sucessivamente\n",
        "com reposição. QUal é a probabilidade que ambas sejam brancas?\n",
        "'''\n",
        "\n",
        "# 5A + 3B = 8\n",
        "# P(B1 e B2) = P(B1) * P(B2)\n",
        "# 3/8 * 3/8 = 9/64\n",
        "\n",
        "# e se não houvesse reposição?\n",
        "# P(B1 intersecção B2) = P(B1) * P(B2/B1)\n",
        "# 3/8 * 2/7 = 6/56"
      ],
      "metadata": {
        "colab": {
          "base_uri": "https://localhost:8080/",
          "height": 54
        },
        "id": "BOhwscp26_AT",
        "outputId": "2d8b4b36-c83a-48b9-c5a7-08f3d78f97b3"
      },
      "execution_count": 28,
      "outputs": [
        {
          "output_type": "execute_result",
          "data": {
            "text/plain": [
              "'\\nNuma urna há 5 bolas azuis e 3 brancas. Duas são retiradas sucessivamente\\ncom reposição. QUal é a probabilidade que ambas sejam brancas?\\n'"
            ],
            "application/vnd.google.colaboratory.intrinsic+json": {
              "type": "string"
            }
          },
          "metadata": {},
          "execution_count": 28
        }
      ]
    },
    {
      "cell_type": "code",
      "source": [
        "# resolvendo com python\n",
        "def calcular_probabilidade_bolas_brancas(reposicao=True):\n",
        "    # Probabilidade de retirar a primeira bola branca\n",
        "    probabilidade_branca_1 = 3 / 8\n",
        "\n",
        "    if reposicao:\n",
        "        # Com reposição: a probabilidade da segunda bola branca é igual à primeira\n",
        "        probabilidade_branca_2 = 3 / 8\n",
        "    else:\n",
        "        # Sem reposição: a probabilidade da segunda bola branca, dado que a primeira foi branca\n",
        "        probabilidade_branca_2 = 2 / 7\n",
        "\n",
        "    # Calcular a probabilidade de ambas as bolas serem brancas\n",
        "    probabilidade_ambas_brancas = probabilidade_branca_1 * probabilidade_branca_2\n",
        "\n",
        "    return probabilidade_ambas_brancas\n",
        "\n",
        "# Calcular a probabilidade com reposição\n",
        "probabilidade_com_reposicao = calcular_probabilidade_bolas_brancas(reposicao=True)\n",
        "probabilidade_com_reposicao_porcentagem = probabilidade_com_reposicao * 100\n",
        "\n",
        "# Calcular a probabilidade sem reposição\n",
        "probabilidade_sem_reposicao = calcular_probabilidade_bolas_brancas(reposicao=False)\n",
        "probabilidade_sem_reposicao_porcentagem = probabilidade_sem_reposicao * 100\n",
        "\n",
        "print(f\"A probabilidade com reposição é {probabilidade_com_reposicao_porcentagem:.2f}%\")\n",
        "print(f\"A probabilidade sem reposição é {probabilidade_sem_reposicao_porcentagem:.2f}%\")\n"
      ],
      "metadata": {
        "colab": {
          "base_uri": "https://localhost:8080/"
        },
        "id": "wa_A6mb08hY2",
        "outputId": "634e2255-d2a6-402e-d592-5d9ac1b5db3a"
      },
      "execution_count": 29,
      "outputs": [
        {
          "output_type": "stream",
          "name": "stdout",
          "text": [
            "A probabilidade com reposição é 14.06%\n",
            "A probabilidade sem reposição é 10.71%\n"
          ]
        }
      ]
    },
    {
      "cell_type": "code",
      "source": [
        "'''\n",
        "Uma moeda e um dado são lançados simultaneamente. Qual é a probabilidade de\n",
        "sair um número par no dado e uma coroa na moeda?\n",
        "'''\n",
        "\n",
        "def calcular_probabilidade_numero_par_e_coroa():\n",
        "    # Probabilidade de sair um número par no dado\n",
        "    probabilidade_par = 3 / 6\n",
        "\n",
        "    # Probabilidade de sair uma coroa na moeda\n",
        "    probabilidade_coroa = 1 / 2\n",
        "\n",
        "    # Probabilidade conjunta de sair um número par no dado e uma coroa na moeda\n",
        "    probabilidade_conjunta = probabilidade_par * probabilidade_coroa\n",
        "\n",
        "    return probabilidade_conjunta\n",
        "\n",
        "# Calcular a probabilidade\n",
        "probabilidade = calcular_probabilidade_numero_par_e_coroa()\n",
        "probabilidade_porcentagem = probabilidade * 100\n",
        "print(f\"A probabilidade de sair um número par no dado e uma coroa na moeda é {probabilidade_porcentagem:.2f}%\")\n"
      ],
      "metadata": {
        "colab": {
          "base_uri": "https://localhost:8080/"
        },
        "id": "1D2F7gCS8ii8",
        "outputId": "6e9889c8-0d60-43f5-9cc0-bb8a6a93a7e3"
      },
      "execution_count": 30,
      "outputs": [
        {
          "output_type": "stream",
          "name": "stdout",
          "text": [
            "A probabilidade de sair um número par no dado e uma coroa na moeda é 25.00%\n"
          ]
        }
      ]
    },
    {
      "cell_type": "code",
      "source": [
        "def calcular_probabilidades(atraso_pessoa, atraso_voo):\n",
        "    # A) Probabilidade da pessoa chegar atrasada mas não perder o vôo\n",
        "    # A pessoa chega atrasada, mas o voo também atrasa, portanto não perde o voo.\n",
        "    probabilidade_chegar_atrasado_sem_perder_voo = atraso_pessoa * atraso_voo\n",
        "\n",
        "    # B) Probabilidade de o executivo perder o vôo\n",
        "    # Para perder o voo, a pessoa precisa chegar atrasada e o voo não pode estar atrasado.\n",
        "    probabilidade_perder_voo = atraso_pessoa * (1 - atraso_voo)\n",
        "\n",
        "    return probabilidade_chegar_atrasado_sem_perder_voo, probabilidade_perder_voo\n",
        "\n",
        "# Dados do problema\n",
        "atraso_pessoa = 0.05  # 5%\n",
        "atraso_voo = 0.15     # 15%\n",
        "\n",
        "# Calcular as probabilidades\n",
        "probabilidade_chegar_atrasado_sem_perder_voo, probabilidade_perder_voo = calcular_probabilidades(atraso_pessoa, atraso_voo)\n",
        "\n",
        "# Convertendo para porcentagem\n",
        "probabilidade_chegar_atrasado_sem_perder_voo_porcentagem = probabilidade_chegar_atrasado_sem_perder_voo * 100\n",
        "probabilidade_perder_voo_porcentagem = probabilidade_perder_voo * 100\n",
        "\n",
        "print(f\"A) Probabilidade da pessoa chegar atrasada mas não perder o vôo: {probabilidade_chegar_atrasado_sem_perder_voo_porcentagem:.2f}%\")\n",
        "print(f\"B) Probabilidade de o executivo perder o vôo: {probabilidade_perder_voo_porcentagem:.2f}%\")\n"
      ],
      "metadata": {
        "colab": {
          "base_uri": "https://localhost:8080/"
        },
        "id": "GW0q1rYB877z",
        "outputId": "e6bf4ba4-7cde-4166-c265-3eda7a923dd6"
      },
      "execution_count": 31,
      "outputs": [
        {
          "output_type": "stream",
          "name": "stdout",
          "text": [
            "A) Probabilidade da pessoa chegar atrasada mas não perder o vôo: 0.75%\n",
            "B) Probabilidade de o executivo perder o vôo: 4.25%\n"
          ]
        }
      ]
    },
    {
      "cell_type": "code",
      "source": [
        "'''\n",
        "Exemplo Realista de Produto de Probabilidade Aplicado à Segurança da Informação: Detecção de Ataques e Exploração de Vulnerabilidades\n",
        "Cenário:\n",
        "Imagine que você está gerenciando a segurança de uma empresa e deseja entender o risco de um ataque cibernético específico explorando uma vulnerabilidade conhecida em um servidor. Vamos supor que:\n",
        "\n",
        "Probabilidade de exploração de vulnerabilidade: A probabilidade de um atacante tentar explorar uma vulnerabilidade específica em um servidor é estimada em 10% (ou 0,10).\n",
        "Probabilidade de detecção do ataque pelo sistema de monitoramento: O sistema de monitoramento e detecção de intrusões (IDS) da empresa detecta esse tipo de ataque com uma probabilidade de 85% (ou 0,85).\n",
        "Objetivo:\n",
        "Qual é a probabilidade de um ataque específico ser realizado e detectado pelo sistema de monitoramento?\n",
        "'''\n",
        "\n",
        "def calcular_probabilidade_ataque_detectado(probabilidade_ataque, probabilidade_deteccao):\n",
        "    # Calcular a probabilidade de que o ataque ocorra e seja detectado\n",
        "    probabilidade_conjunta = probabilidade_ataque * probabilidade_deteccao\n",
        "    return probabilidade_conjunta\n",
        "\n",
        "# Dados do problema\n",
        "probabilidade_ataque = 0.10  # 10% de probabilidade de exploração da vulnerabilidade\n",
        "probabilidade_deteccao = 0.85  # 85% de probabilidade de detecção do ataque pelo sistema\n",
        "\n",
        "# Calcular a probabilidade conjunta\n",
        "probabilidade = calcular_probabilidade_ataque_detectado(probabilidade_ataque, probabilidade_deteccao)\n",
        "probabilidade_porcentagem = probabilidade * 100\n",
        "\n",
        "print(f\"A probabilidade de que o ataque ocorra e seja detectado é {probabilidade_porcentagem:.2f}%\")\n"
      ],
      "metadata": {
        "colab": {
          "base_uri": "https://localhost:8080/"
        },
        "id": "YmgyhiV-9uug",
        "outputId": "13fb01fa-dcb3-448d-bd72-1a0d277227b6"
      },
      "execution_count": 32,
      "outputs": [
        {
          "output_type": "stream",
          "name": "stdout",
          "text": [
            "A probabilidade de que o ataque ocorra e seja detectado é 8.50%\n"
          ]
        }
      ]
    },
    {
      "cell_type": "markdown",
      "source": [
        "**PROBABILIDADE DO EVENTO COMPLEMENTAR**\n",
        "\n",
        "A e B são eventos do mesmo espaço amostral S, Se:\n",
        "\n",
        "A intersecção B = nulo e A U B = S\n",
        "\n",
        "A e B são complementares e\n",
        "P(A) + P(B) = 1 = 100%\n",
        "P(A) = 1-P(B)"
      ],
      "metadata": {
        "id": "0sPTKnlB-lIa"
      }
    },
    {
      "cell_type": "code",
      "source": [
        "'''\n",
        "No lançamento de 2 dados, qual é a probabilidade de não sair soma 4?\n",
        "'''\n",
        "\n",
        "# n(A) = 6 * 6 = 36\n",
        "\n",
        "# Soma 4 = (1,3), (3,1), (2,2) = A\n",
        "# P(A) = 3/36; P(A) + P(B) = 1\n",
        "# P(B) = 1-3/36 = 33/36\n",
        "\n",
        "# Usano python\n",
        "import itertools\n",
        "\n",
        "def calcular_probabilidade_nao_soma_quatro():\n",
        "    # Todos os possíveis resultados ao lançar 2 dados\n",
        "    todas_as_combinacoes = list(itertools.product(range(1, 7), repeat=2))\n",
        "\n",
        "    # Contar quantas combinações resultam em soma 4\n",
        "    soma_quatro = [(x, y) for x, y in todas_as_combinacoes if x + y == 4]\n",
        "    numero_combinacoes_soma_quatro = len(soma_quatro)\n",
        "\n",
        "    # Total de combinações possíveis ao lançar 2 dados\n",
        "    total_combinacoes = len(todas_as_combinacoes)\n",
        "\n",
        "    # Probabilidade de não sair soma 4\n",
        "    probabilidade_nao_soma_quatro = (total_combinacoes - numero_combinacoes_soma_quatro) / total_combinacoes\n",
        "\n",
        "    return probabilidade_nao_soma_quatro\n",
        "\n",
        "# Calcular a probabilidade\n",
        "probabilidade = calcular_probabilidade_nao_soma_quatro()\n",
        "probabilidade_porcentagem = probabilidade * 100\n",
        "\n",
        "print(f\"A probabilidade de não sair soma 4 ao lançar dois dados é {probabilidade_porcentagem:.2f}%\")\n"
      ],
      "metadata": {
        "colab": {
          "base_uri": "https://localhost:8080/"
        },
        "id": "A0A-YK9n-cGs",
        "outputId": "130d1d7a-0f0d-47eb-ee8d-c48d986073bb"
      },
      "execution_count": 33,
      "outputs": [
        {
          "output_type": "stream",
          "name": "stdout",
          "text": [
            "A probabilidade de não sair soma 4 ao lançar dois dados é 91.67%\n"
          ]
        }
      ]
    },
    {
      "cell_type": "code",
      "source": [
        "'''\n",
        "Lanço uma moeda 3 vezes sucessivamente. Qual é a probabilidade de sair pelo\n",
        "menos 1 cara?\n",
        "'''\n",
        "\n",
        "# A: não sair cara -> K K K\n",
        "# n(S) = 2 * 2 * 2 = 8\n",
        "# P(A) = 1/8, P(A) + P(B) = 1 -> 1/8 + P(B) = 1 -> P(B) = 1-1/8 = 7/8\n",
        "\n",
        "import itertools\n",
        "\n",
        "def calcular_probabilidade_pelo_menos_uma_cara():\n",
        "    # Todas as combinações possíveis ao lançar uma moeda 3 vezes\n",
        "    todas_as_combinacoes = list(itertools.product(['C', 'K'], repeat=3))\n",
        "\n",
        "    # Contar as combinações que resultam em pelo menos 1 cara ('C')\n",
        "    combinacoes_com_cara = [resultado for resultado in todas_as_combinacoes if 'C' in resultado]\n",
        "    numero_combinacoes_com_cara = len(combinacoes_com_cara)\n",
        "\n",
        "    # Total de combinações possíveis\n",
        "    total_combinacoes = len(todas_as_combinacoes)\n",
        "\n",
        "    # Probabilidade de sair pelo menos 1 cara\n",
        "    probabilidade_pelo_menos_uma_cara = numero_combinacoes_com_cara / total_combinacoes\n",
        "\n",
        "    return probabilidade_pelo_menos_uma_cara\n",
        "\n",
        "# Calcular a probabilidade\n",
        "probabilidade = calcular_probabilidade_pelo_menos_uma_cara()\n",
        "probabilidade_porcentagem = probabilidade * 100\n",
        "probabilidade_porcentagem\n"
      ],
      "metadata": {
        "colab": {
          "base_uri": "https://localhost:8080/"
        },
        "id": "Z8PI9ViZADKZ",
        "outputId": "e0835b20-9372-42c3-832e-835fd544a7f2"
      },
      "execution_count": 34,
      "outputs": [
        {
          "output_type": "execute_result",
          "data": {
            "text/plain": [
              "87.5"
            ]
          },
          "metadata": {},
          "execution_count": 34
        }
      ]
    },
    {
      "cell_type": "code",
      "source": [
        "'''\n",
        "Exemplo Realista de Probabilidade do Evento Complementar em Segurança da Informação: Falha de Backup\n",
        "Cenário:\n",
        "Uma empresa realiza backups diários de seus dados críticos. No entanto, devido a vários fatores (problemas de rede, falhas de hardware, etc.), há uma pequena chance de que o backup diário falhe. Suponha que:\n",
        "\n",
        "A probabilidade de um backup diário falhar é de 2% (ou 0,02).\n",
        "Queremos saber qual é a probabilidade de que, em um determinado dia, o backup seja realizado com sucesso. Esse é o evento complementar à falha do backup\n",
        "'''\n",
        "\n",
        "def calcular_probabilidade_sucesso_backup(probabilidade_falha):\n",
        "    # Calcular a probabilidade do evento complementar (backup bem-sucedido)\n",
        "    probabilidade_sucesso = 1 - probabilidade_falha\n",
        "    return probabilidade_sucesso\n",
        "\n",
        "# Dados do problema\n",
        "probabilidade_falha = 0.02  # 2% de chance de falha do backup\n",
        "\n",
        "# Calcular a probabilidade de sucesso\n",
        "probabilidade_sucesso = calcular_probabilidade_sucesso_backup(probabilidade_falha)\n",
        "probabilidade_sucesso_porcentagem = probabilidade_sucesso * 100\n",
        "\n",
        "print(f\"A probabilidade de que o backup seja realizado com sucesso é {probabilidade_sucesso_porcentagem:.2f}%\")\n"
      ],
      "metadata": {
        "colab": {
          "base_uri": "https://localhost:8080/"
        },
        "id": "QvrJJ7BcA5gQ",
        "outputId": "84f8bb5e-353a-4db3-bd16-b9dbafebc942"
      },
      "execution_count": 35,
      "outputs": [
        {
          "output_type": "stream",
          "name": "stdout",
          "text": [
            "A probabilidade de que o backup seja realizado com sucesso é 98.00%\n"
          ]
        }
      ]
    },
    {
      "cell_type": "markdown",
      "source": [
        "**LEI BINOMIAL DE PROBABILIDADE**\n",
        "\n"
      ],
      "metadata": {
        "id": "pHjYHM3LBfJ5"
      }
    },
    {
      "cell_type": "code",
      "source": [
        "'''\n",
        "Jogando-se um dado 4 vezes, qual é a probabilidade de ocorrer o\n",
        "número 5 exatamente 2 vezes?\n",
        "'''\n",
        "\n",
        "from math import comb\n",
        "\n",
        "def calcular_probabilidade_5_exatamente_2_vezes(n, k, p):\n",
        "    # n = número de lançamentos\n",
        "    # k = número de vezes que desejamos que o evento ocorra (exatamente 2 vezes)\n",
        "    # p = probabilidade de o evento ocorrer em um único lançamento (no caso, sair 5 em um dado)\n",
        "\n",
        "    # Fórmula: C(n, k) * p^k * (1-p)^(n-k)\n",
        "    probabilidade = comb(n, k) * (p ** k) * ((1 - p) ** (n - k))\n",
        "\n",
        "    return probabilidade\n",
        "\n",
        "# Dados do problema\n",
        "n = 4  # Número de lançamentos\n",
        "k = 2  # Exatamente 2 vezes\n",
        "p = 1 / 6  # Probabilidade de sair 5 em um único lançamento de dado\n",
        "\n",
        "# Calcular a probabilidade\n",
        "probabilidade = calcular_probabilidade_5_exatamente_2_vezes(n, k, p)\n",
        "probabilidade_porcentagem = probabilidade * 100\n",
        "\n",
        "probabilidade_porcentagem\n"
      ],
      "metadata": {
        "colab": {
          "base_uri": "https://localhost:8080/"
        },
        "id": "QKeOC29rBYck",
        "outputId": "ace6de99-2fd4-46ec-a4d1-c5efb6eb56e4"
      },
      "execution_count": 36,
      "outputs": [
        {
          "output_type": "execute_result",
          "data": {
            "text/plain": [
              "11.574074074074076"
            ]
          },
          "metadata": {},
          "execution_count": 36
        }
      ]
    },
    {
      "cell_type": "code",
      "source": [
        "from math import comb\n",
        "\n",
        "def calcular_probabilidade_5_exatamente_2_vezes(n, k, p):\n",
        "    # n = número de lançamentos\n",
        "    # k = número de vezes que desejamos que o evento ocorra (exatamente 2 vezes)\n",
        "    # p = probabilidade de o evento ocorrer em um único lançamento (no caso, sair 5 em um dado)\n",
        "\n",
        "    # Fórmula: C(n, k) * p^k * (1-p)^(n-k)\n",
        "    probabilidade = comb(n, k) * (p ** k) * ((1 - p) ** (n - k))\n",
        "\n",
        "    return probabilidade\n",
        "\n",
        "# Dados do problema\n",
        "n = 4  # Número de lançamentos\n",
        "k = 2  # Exatamente 2 vezes\n",
        "p = 1 / 6  # Probabilidade de sair 5 em um único lançamento de dado\n",
        "\n",
        "# Calcular a probabilidade\n",
        "probabilidade = calcular_probabilidade_5_exatamente_2_vezes(n, k, p)\n",
        "probabilidade_porcentagem = probabilidade * 100\n",
        "\n",
        "print(f\"A probabilidade de sair o número 5 exatamente 2 vezes em 4 lançamentos é {probabilidade_porcentagem:.2f}%\")\n"
      ],
      "metadata": {
        "colab": {
          "base_uri": "https://localhost:8080/"
        },
        "id": "6KiEeBF4B6Fw",
        "outputId": "8c91cc6d-7e7b-4305-b5d7-8fb89df2fe47"
      },
      "execution_count": 37,
      "outputs": [
        {
          "output_type": "stream",
          "name": "stdout",
          "text": [
            "A probabilidade de sair o número 5 exatamente 2 vezes em 4 lançamentos é 11.57%\n"
          ]
        }
      ]
    },
    {
      "cell_type": "code",
      "source": [
        "'''\n",
        "Exemplo Realista: Detecção de Intrusões Usando um Sistema de Monitoramento\n",
        "Cenário:\n",
        "Uma empresa utiliza um Sistema de Detecção de Intrusões (IDS) para monitorar o tráfego de rede. Sabemos que o IDS tem uma taxa de detecção de 95%, ou seja, a probabilidade de detectar uma intrusão real é 0,95. A empresa observa 10 incidentes de segurança ao longo de um mês.\n",
        "\n",
        "Queremos calcular a probabilidade de que o IDS detecte exatamente 8 das 10 intrusões reais.\n",
        "\n",
        "Aplicação da Lei Binomial de Probabilidade:\n",
        "n: Número total de tentativas (no caso, 10 incidentes).\n",
        "k: Número de sucessos desejados (número de vezes que o IDS detecta a intrusão, neste caso, 8 vezes).\n",
        "p: Probabilidade de sucesso em uma única tentativa (0,95, ou 95% de chance de detectar uma intrusão).\n",
        "'''\n",
        "\n",
        "from math import comb\n",
        "\n",
        "def calcular_probabilidade_binomial(n, k, p):\n",
        "    # Calcular a probabilidade usando a fórmula binomial\n",
        "    probabilidade = comb(n, k) * (p ** k) * ((1 - p) ** (n - k))\n",
        "    return probabilidade\n",
        "\n",
        "# Dados do problema\n",
        "n = 10  # Número de incidentes de segurança\n",
        "k = 8   # Número de vezes que queremos que o IDS detecte a intrusão\n",
        "p = 0.95  # Probabilidade de sucesso do IDS em detectar uma intrusão\n",
        "\n",
        "# Calcular a probabilidade\n",
        "probabilidade = calcular_probabilidade_binomial(n, k, p)\n",
        "probabilidade_porcentagem = probabilidade * 100\n",
        "\n",
        "print(f\"A probabilidade de que o IDS detecte exatamente 8 das 10 intrusões é {probabilidade_porcentagem:.2f}%\")\n"
      ],
      "metadata": {
        "colab": {
          "base_uri": "https://localhost:8080/"
        },
        "id": "E2gKDUsdDJj1",
        "outputId": "75681a6d-2dba-4771-fa1b-9a9b29f40fcd"
      },
      "execution_count": 38,
      "outputs": [
        {
          "output_type": "stream",
          "name": "stdout",
          "text": [
            "A probabilidade de que o IDS detecte exatamente 8 das 10 intrusões é 7.46%\n"
          ]
        }
      ]
    },
    {
      "cell_type": "code",
      "source": [
        "'''\n",
        "Farei uma prova de 10 questões com 5 alternativas cada.\n",
        "QUal é a probabilidade de eu acertar exatamente três\n",
        "ao chutar todas?\n",
        "'''\n",
        "\n",
        "from math import comb\n",
        "\n",
        "def calcular_probabilidade_acertar_3_em_10(n, k, p):\n",
        "    # Calcular a probabilidade usando a fórmula binomial\n",
        "    probabilidade = comb(n, k) * (p ** k) * ((1 - p) ** (n - k))\n",
        "    return probabilidade\n",
        "\n",
        "# Dados do problema\n",
        "n = 10  # Número total de questões\n",
        "k = 3   # Número de acertos desejados\n",
        "p = 1 / 5  # Probabilidade de acertar uma questão (5 alternativas, 1 correta)\n",
        "\n",
        "# Calcular a probabilidade\n",
        "probabilidade = calcular_probabilidade_acertar_3_em_10(n, k, p)\n",
        "probabilidade_porcentagem = probabilidade * 100\n",
        "\n",
        "print(f\"A probabilidade de acertar exatamente 3 das 10 questões ao chutar é {probabilidade_porcentagem:.2f}%\")\n"
      ],
      "metadata": {
        "colab": {
          "base_uri": "https://localhost:8080/"
        },
        "id": "0kZnOyrqDqWM",
        "outputId": "f2bd5389-680e-48db-8c62-d6b9a80e6e6e"
      },
      "execution_count": 39,
      "outputs": [
        {
          "output_type": "stream",
          "name": "stdout",
          "text": [
            "A probabilidade de acertar exatamente 3 das 10 questões ao chutar é 20.13%\n"
          ]
        }
      ]
    },
    {
      "cell_type": "markdown",
      "source": [
        "**ARVORE DE PROBABILIDADES**"
      ],
      "metadata": {
        "id": "Kf4eU3jOExV0"
      }
    },
    {
      "cell_type": "code",
      "source": [
        "'''\n",
        "Tenho uma urna com 4 bolas brancas e 6 bolas pretas. Desta urna, retiram-se\n",
        "2 bolas, sucessivamente e sem reposição. Qual é a probabilidade de:\n",
        "\n",
        "A) Ambas serem brancas?\n",
        "B) A segunda ser branca?\n",
        "C) A primeira ser branca, sabendo que a segunda é branca?\n",
        "'''\n",
        "\n",
        "from math import comb\n",
        "\n",
        "def probabilidade_ambas_brancas(w, p, t):\n",
        "    \"\"\"\n",
        "    Calcula a probabilidade de ambas as bolas retiradas serem brancas.\n",
        "    \"\"\"\n",
        "    return (w / t) * ((w - 1) / (t - 1))\n",
        "\n",
        "def probabilidade_segunda_branca(w, p, t):\n",
        "    \"\"\"\n",
        "    Calcula a probabilidade de a segunda bola ser branca.\n",
        "    \"\"\"\n",
        "    # Caso 1: Primeira branca, segunda branca\n",
        "    caso1 = (w / t) * ((w - 1) / (t - 1))\n",
        "    # Caso 2: Primeira preta, segunda branca\n",
        "    caso2 = (p / t) * (w / (t - 1))\n",
        "    return caso1 + caso2\n",
        "\n",
        "def probabilidade_primeira_branca_dado_segunda_branca(w, p, t):\n",
        "    \"\"\"\n",
        "    Calcula a probabilidade de a primeira bola ser branca, dado que a segunda é branca.\n",
        "    \"\"\"\n",
        "    # Probabilidade de ambas serem brancas\n",
        "    p_ambas_brancas = probabilidade_ambas_brancas(w, p, t)\n",
        "    # Probabilidade de a segunda ser branca\n",
        "    p_segunda_branca = probabilidade_segunda_branca(w, p, t)\n",
        "    # Probabilidade condicional\n",
        "    return p_ambas_brancas / p_segunda_branca\n",
        "\n",
        "def main():\n",
        "    # Dados do problema\n",
        "    white_balls = 4\n",
        "    black_balls = 6\n",
        "    total_balls = white_balls + black_balls\n",
        "\n",
        "    # Cálculo das probabilidades\n",
        "    prob_a = probabilidade_ambas_brancas(white_balls, black_balls, total_balls)\n",
        "    prob_b = probabilidade_segunda_branca(white_balls, black_balls, total_balls)\n",
        "    prob_c = probabilidade_primeira_branca_dado_segunda_branca(white_balls, black_balls, total_balls)\n",
        "\n",
        "    # Convertendo para porcentagem\n",
        "    prob_a_percent = prob_a * 100\n",
        "    prob_b_percent = prob_b * 100\n",
        "    prob_c_percent = prob_c * 100\n",
        "\n",
        "    # Exibindo os resultados\n",
        "    print(f\"A) Probabilidade de ambas as bolas serem brancas: {prob_a_percent:.2f}%\")\n",
        "    print(f\"B) Probabilidade de a segunda bola ser branca: {prob_b_percent:.2f}%\")\n",
        "    print(f\"C) Probabilidade de a primeira bola ser branca, dado que a segunda é branca: {prob_c_percent:.2f}%\")\n",
        "\n",
        "if __name__ == \"__main__\":\n",
        "    main()\n"
      ],
      "metadata": {
        "colab": {
          "base_uri": "https://localhost:8080/"
        },
        "id": "zNpuSGV-ERJW",
        "outputId": "c383c1bc-4e8a-42a6-9513-9c92427cdb8e"
      },
      "execution_count": 40,
      "outputs": [
        {
          "output_type": "stream",
          "name": "stdout",
          "text": [
            "A) Probabilidade de ambas as bolas serem brancas: 13.33%\n",
            "B) Probabilidade de a segunda bola ser branca: 40.00%\n",
            "C) Probabilidade de a primeira bola ser branca, dado que a segunda é branca: 33.33%\n"
          ]
        }
      ]
    },
    {
      "cell_type": "code",
      "source": [
        "'''\n",
        "Exemplo Realista: Detecção de Intrusões com Falso Positivo e Falso Negativo\n",
        "Cenário:\n",
        "Uma empresa utiliza um Sistema de Detecção de Intrusões (IDS) para monitorar o tráfego de rede. O IDS tem as seguintes características:\n",
        "\n",
        "Probabilidade de detectar uma intrusão verdadeira (Verdadeiro Positivo): 90% (ou 0,9).\n",
        "Probabilidade de não detectar uma intrusão (Falso Negativo): 10% (ou 0,1).\n",
        "Probabilidade de gerar um alerta falso quando não há intrusão (Falso Positivo): 5% (ou 0,05).\n",
        "Probabilidade de não gerar um alerta quando não há intrusão (Verdadeiro Negativo): 95% (ou 0,95).\n",
        "O objetivo é calcular a probabilidade de que um alerta do IDS seja legítimo, ou seja, que realmente tenha havido uma intrusão.\n",
        "\n",
        "Passos para Resolver Usando a Árvore de Probabilidades:\n",
        "Ramo 1: Quando há uma intrusão.\n",
        "\n",
        "Probabilidade de intrusão: Suponha que a probabilidade de uma intrusão ocorrer é 0,01 (ou 1%).\n",
        "Probabilidade de o IDS detectar a intrusão (Verdadeiro Positivo): 0,9.\n",
        "Probabilidade de o IDS não detectar a intrusão (Falso Negativo): 0,1.\n",
        "Ramo 2: Quando não há intrusão.\n",
        "\n",
        "Probabilidade de não haver intrusão: 0,99 (ou 99%).\n",
        "Probabilidade de o IDS gerar um alerta falso (Falso Positivo): 0,05.\n",
        "Probabilidade de o IDS não gerar um alerta (Verdadeiro Negativo): 0,95.\n",
        "Passo 3: Construção da Árvore de Probabilidades\n",
        "A árvore de probabilidades terá os seguintes caminhos:\n",
        "\n",
        "Caminho 1: Intrusão e Detecção (Verdadeiro Positivo)\n",
        "Caminho 2: Intrusão e Não Detecção (Falso Negativo)\n",
        "Caminho 3: Não Intrusão e Alerta Falso (Falso Positivo)\n",
        "Caminho 4: Não Intrusão e Nenhum Alerta (Verdadeiro Negativo)\n",
        "Passo 4: Cálculo das Probabilidades\n",
        "Queremos calcular a probabilidade de que um alerta gerado seja devido a uma intrusão real (legítimo).\n",
        "\n",
        "Implementação em Python:\n",
        "'''\n",
        "\n",
        "def calcular_probabilidade_alerta_legitimo():\n",
        "    # Probabilidades básicas\n",
        "    prob_intrusao = 0.01\n",
        "    prob_nao_intrusao = 0.99\n",
        "\n",
        "    # Probabilidades condicionais\n",
        "    prob_vp = 0.9  # Verdadeiro Positivo\n",
        "    prob_fn = 0.1  # Falso Negativo\n",
        "    prob_fp = 0.05  # Falso Positivo\n",
        "    prob_vn = 0.95  # Verdadeiro Negativo\n",
        "\n",
        "    # Probabilidades dos caminhos\n",
        "    caminho1 = prob_intrusao * prob_vp  # Intrusão e Detecção\n",
        "    caminho2 = prob_intrusao * prob_fn  # Intrusão e Não Detecção\n",
        "    caminho3 = prob_nao_intrusao * prob_fp  # Não Intrusão e Alerta Falso\n",
        "    caminho4 = prob_nao_intrusao * prob_vn  # Não Intrusão e Nenhum Alerta\n",
        "\n",
        "    # Probabilidade de gerar um alerta (legítimo ou falso)\n",
        "    prob_alerta = caminho1 + caminho3\n",
        "\n",
        "    # Probabilidade de que um alerta seja devido a uma intrusão real\n",
        "    prob_alerta_legitimo = caminho1 / prob_alerta\n",
        "\n",
        "    return prob_alerta_legitimo\n",
        "\n",
        "# Calcular a probabilidade\n",
        "probabilidade_legitimo = calcular_probabilidade_alerta_legitimo()\n",
        "probabilidade_legitimo_porcentagem = probabilidade_legitimo * 100\n",
        "\n",
        "print(f\"A probabilidade de que um alerta do IDS seja legítimo (devido a uma intrusão real) é {probabilidade_legitimo_porcentagem:.2f}%\")\n"
      ],
      "metadata": {
        "colab": {
          "base_uri": "https://localhost:8080/"
        },
        "id": "2nXr1iMQFEgV",
        "outputId": "4eb469b0-bd38-4424-e1a4-1783890b4616"
      },
      "execution_count": 41,
      "outputs": [
        {
          "output_type": "stream",
          "name": "stdout",
          "text": [
            "A probabilidade de que um alerta do IDS seja legítimo (devido a uma intrusão real) é 15.38%\n"
          ]
        }
      ]
    }
  ]
}