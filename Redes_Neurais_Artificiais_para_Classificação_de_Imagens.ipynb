{
  "nbformat": 4,
  "nbformat_minor": 0,
  "metadata": {
    "colab": {
      "provenance": []
    },
    "kernelspec": {
      "name": "python3",
      "display_name": "Python 3"
    },
    "language_info": {
      "name": "python"
    }
  },
  "cells": [
    {
      "cell_type": "code",
      "execution_count": null,
      "metadata": {
        "id": "9t5KHYuYv832",
        "colab": {
          "base_uri": "https://localhost:8080/",
          "height": 35
        },
        "outputId": "11aafbc2-43a5-40c6-a63b-84c74ee9fcbe"
      },
      "outputs": [
        {
          "output_type": "execute_result",
          "data": {
            "text/plain": [
              "'2.9.2'"
            ],
            "application/vnd.google.colaboratory.intrinsic+json": {
              "type": "string"
            }
          },
          "metadata": {},
          "execution_count": 1
        }
      ],
      "source": [
        "# Importação das Bibliotecas\n",
        "import cv2\n",
        "import numpy as np\n",
        "import os\n",
        "import zipfile\n",
        "from google.colab.patches import cv2_imshow\n",
        "import tensorflow as tf\n",
        "import pandas as pd\n",
        "import seaborn as sns\n",
        "import matplotlib.pyplot as plt\n",
        "tf.__version__"
      ]
    },
    {
      "cell_type": "code",
      "source": [
        "# !pip install tensorflow == 2.6.0"
      ],
      "metadata": {
        "id": "fI1Qw91MyyU0"
      },
      "execution_count": null,
      "outputs": []
    },
    {
      "cell_type": "code",
      "source": [
        "# Extração dos pixels das imagens\n",
        "from google.colab import drive\n",
        "drive.mount('/content/drive')"
      ],
      "metadata": {
        "colab": {
          "base_uri": "https://localhost:8080/"
        },
        "id": "zxljPqV2y-Ii",
        "outputId": "1da724a4-f5b7-403d-c4b9-85bf61140568"
      },
      "execution_count": null,
      "outputs": [
        {
          "output_type": "stream",
          "name": "stdout",
          "text": [
            "Drive already mounted at /content/drive; to attempt to forcibly remount, call drive.mount(\"/content/drive\", force_remount=True).\n"
          ]
        }
      ]
    },
    {
      "cell_type": "code",
      "source": [
        "path = '/content/drive/MyDrive/redes-neurais/homer_bart_1.zip'\n",
        "zip_object = zipfile.ZipFile(file = path, mode = 'r')\n",
        "zip_object.extractall('./')\n",
        "zip_object.close()"
      ],
      "metadata": {
        "id": "Yl7OTgmSzH99"
      },
      "execution_count": null,
      "outputs": []
    },
    {
      "cell_type": "code",
      "source": [
        "diretorio = '/content/homer_bart_1'\n",
        "arquivos = [os.path.join(diretorio, f) for f in sorted(os.listdir(diretorio))]\n",
        "print(arquivos)"
      ],
      "metadata": {
        "colab": {
          "base_uri": "https://localhost:8080/"
        },
        "id": "9gdE49YP0n4c",
        "outputId": "cfef949b-7cde-449a-e126-d16ab3c017fd"
      },
      "execution_count": null,
      "outputs": [
        {
          "output_type": "stream",
          "name": "stdout",
          "text": [
            "['/content/homer_bart_1/.DS_Store', '/content/homer_bart_1/bart1.bmp', '/content/homer_bart_1/bart10.bmp', '/content/homer_bart_1/bart100.bmp', '/content/homer_bart_1/bart101.bmp', '/content/homer_bart_1/bart102.bmp', '/content/homer_bart_1/bart103.bmp', '/content/homer_bart_1/bart104.bmp', '/content/homer_bart_1/bart105.bmp', '/content/homer_bart_1/bart106.bmp', '/content/homer_bart_1/bart108.bmp', '/content/homer_bart_1/bart109.bmp', '/content/homer_bart_1/bart11.bmp', '/content/homer_bart_1/bart110.bmp', '/content/homer_bart_1/bart111.bmp', '/content/homer_bart_1/bart112.bmp', '/content/homer_bart_1/bart113.bmp', '/content/homer_bart_1/bart114.bmp', '/content/homer_bart_1/bart115.bmp', '/content/homer_bart_1/bart116.bmp', '/content/homer_bart_1/bart117.bmp', '/content/homer_bart_1/bart118.bmp', '/content/homer_bart_1/bart119.bmp', '/content/homer_bart_1/bart12.bmp', '/content/homer_bart_1/bart120.bmp', '/content/homer_bart_1/bart121.bmp', '/content/homer_bart_1/bart122.bmp', '/content/homer_bart_1/bart123.bmp', '/content/homer_bart_1/bart124.bmp', '/content/homer_bart_1/bart125.bmp', '/content/homer_bart_1/bart126.bmp', '/content/homer_bart_1/bart127.bmp', '/content/homer_bart_1/bart128.bmp', '/content/homer_bart_1/bart13.bmp', '/content/homer_bart_1/bart130.bmp', '/content/homer_bart_1/bart131.bmp', '/content/homer_bart_1/bart132.bmp', '/content/homer_bart_1/bart133.bmp', '/content/homer_bart_1/bart134.bmp', '/content/homer_bart_1/bart135.bmp', '/content/homer_bart_1/bart136.bmp', '/content/homer_bart_1/bart137.bmp', '/content/homer_bart_1/bart138.bmp', '/content/homer_bart_1/bart139.bmp', '/content/homer_bart_1/bart14.bmp', '/content/homer_bart_1/bart141.bmp', '/content/homer_bart_1/bart142.bmp', '/content/homer_bart_1/bart143.bmp', '/content/homer_bart_1/bart144.bmp', '/content/homer_bart_1/bart145.bmp', '/content/homer_bart_1/bart146.bmp', '/content/homer_bart_1/bart147.bmp', '/content/homer_bart_1/bart148.bmp', '/content/homer_bart_1/bart149.bmp', '/content/homer_bart_1/bart15.bmp', '/content/homer_bart_1/bart150.bmp', '/content/homer_bart_1/bart151.bmp', '/content/homer_bart_1/bart153.bmp', '/content/homer_bart_1/bart154.bmp', '/content/homer_bart_1/bart155.bmp', '/content/homer_bart_1/bart156.bmp', '/content/homer_bart_1/bart157.bmp', '/content/homer_bart_1/bart158.bmp', '/content/homer_bart_1/bart159.bmp', '/content/homer_bart_1/bart16.bmp', '/content/homer_bart_1/bart160.bmp', '/content/homer_bart_1/bart161.bmp', '/content/homer_bart_1/bart162.bmp', '/content/homer_bart_1/bart164.bmp', '/content/homer_bart_1/bart165.bmp', '/content/homer_bart_1/bart166.bmp', '/content/homer_bart_1/bart167.bmp', '/content/homer_bart_1/bart168.bmp', '/content/homer_bart_1/bart169.bmp', '/content/homer_bart_1/bart17.bmp', '/content/homer_bart_1/bart18.bmp', '/content/homer_bart_1/bart19.bmp', '/content/homer_bart_1/bart2.bmp', '/content/homer_bart_1/bart20.bmp', '/content/homer_bart_1/bart21.bmp', '/content/homer_bart_1/bart22.bmp', '/content/homer_bart_1/bart23.bmp', '/content/homer_bart_1/bart24.bmp', '/content/homer_bart_1/bart25.bmp', '/content/homer_bart_1/bart26.bmp', '/content/homer_bart_1/bart27.bmp', '/content/homer_bart_1/bart28.bmp', '/content/homer_bart_1/bart29.bmp', '/content/homer_bart_1/bart3.bmp', '/content/homer_bart_1/bart30.bmp', '/content/homer_bart_1/bart31.bmp', '/content/homer_bart_1/bart32.bmp', '/content/homer_bart_1/bart34.bmp', '/content/homer_bart_1/bart35.bmp', '/content/homer_bart_1/bart36.bmp', '/content/homer_bart_1/bart37.bmp', '/content/homer_bart_1/bart38.bmp', '/content/homer_bart_1/bart39.bmp', '/content/homer_bart_1/bart4.bmp', '/content/homer_bart_1/bart40.bmp', '/content/homer_bart_1/bart42.bmp', '/content/homer_bart_1/bart43.bmp', '/content/homer_bart_1/bart44.bmp', '/content/homer_bart_1/bart45.bmp', '/content/homer_bart_1/bart46.bmp', '/content/homer_bart_1/bart47.bmp', '/content/homer_bart_1/bart48.bmp', '/content/homer_bart_1/bart49.bmp', '/content/homer_bart_1/bart5.bmp', '/content/homer_bart_1/bart50.bmp', '/content/homer_bart_1/bart51.bmp', '/content/homer_bart_1/bart52.bmp', '/content/homer_bart_1/bart53.bmp', '/content/homer_bart_1/bart54.bmp', '/content/homer_bart_1/bart55.bmp', '/content/homer_bart_1/bart56.bmp', '/content/homer_bart_1/bart57.bmp', '/content/homer_bart_1/bart58.bmp', '/content/homer_bart_1/bart59.bmp', '/content/homer_bart_1/bart6.bmp', '/content/homer_bart_1/bart60.bmp', '/content/homer_bart_1/bart61.bmp', '/content/homer_bart_1/bart62.bmp', '/content/homer_bart_1/bart63.bmp', '/content/homer_bart_1/bart64.bmp', '/content/homer_bart_1/bart65.bmp', '/content/homer_bart_1/bart66.bmp', '/content/homer_bart_1/bart67.bmp', '/content/homer_bart_1/bart68.bmp', '/content/homer_bart_1/bart69.bmp', '/content/homer_bart_1/bart7.bmp', '/content/homer_bart_1/bart70.bmp', '/content/homer_bart_1/bart71.bmp', '/content/homer_bart_1/bart72.bmp', '/content/homer_bart_1/bart73.bmp', '/content/homer_bart_1/bart74.bmp', '/content/homer_bart_1/bart75.bmp', '/content/homer_bart_1/bart76.bmp', '/content/homer_bart_1/bart77.bmp', '/content/homer_bart_1/bart79.bmp', '/content/homer_bart_1/bart8.bmp', '/content/homer_bart_1/bart80.bmp', '/content/homer_bart_1/bart81.bmp', '/content/homer_bart_1/bart82.bmp', '/content/homer_bart_1/bart83.bmp', '/content/homer_bart_1/bart84.bmp', '/content/homer_bart_1/bart85.bmp', '/content/homer_bart_1/bart86.bmp', '/content/homer_bart_1/bart87.bmp', '/content/homer_bart_1/bart89.bmp', '/content/homer_bart_1/bart9.bmp', '/content/homer_bart_1/bart90.bmp', '/content/homer_bart_1/bart91.bmp', '/content/homer_bart_1/bart92.bmp', '/content/homer_bart_1/bart93.bmp', '/content/homer_bart_1/bart94.bmp', '/content/homer_bart_1/bart95.bmp', '/content/homer_bart_1/bart96.bmp', '/content/homer_bart_1/bart97.bmp', '/content/homer_bart_1/bart98.bmp', '/content/homer_bart_1/bart99.bmp', '/content/homer_bart_1/homer1.bmp', '/content/homer_bart_1/homer10.bmp', '/content/homer_bart_1/homer100.bmp', '/content/homer_bart_1/homer101.bmp', '/content/homer_bart_1/homer102.bmp', '/content/homer_bart_1/homer103.bmp', '/content/homer_bart_1/homer104.bmp', '/content/homer_bart_1/homer105.bmp', '/content/homer_bart_1/homer106.bmp', '/content/homer_bart_1/homer107.bmp', '/content/homer_bart_1/homer109.bmp', '/content/homer_bart_1/homer110.bmp', '/content/homer_bart_1/homer112.bmp', '/content/homer_bart_1/homer113.bmp', '/content/homer_bart_1/homer115.bmp', '/content/homer_bart_1/homer116.bmp', '/content/homer_bart_1/homer117.bmp', '/content/homer_bart_1/homer119.bmp', '/content/homer_bart_1/homer120.bmp', '/content/homer_bart_1/homer121.bmp', '/content/homer_bart_1/homer122.bmp', '/content/homer_bart_1/homer123.bmp', '/content/homer_bart_1/homer124.bmp', '/content/homer_bart_1/homer13.bmp', '/content/homer_bart_1/homer14.bmp', '/content/homer_bart_1/homer15.bmp', '/content/homer_bart_1/homer16.bmp', '/content/homer_bart_1/homer17.bmp', '/content/homer_bart_1/homer18.bmp', '/content/homer_bart_1/homer2.bmp', '/content/homer_bart_1/homer20.bmp', '/content/homer_bart_1/homer21.bmp', '/content/homer_bart_1/homer22.bmp', '/content/homer_bart_1/homer23.bmp', '/content/homer_bart_1/homer24.bmp', '/content/homer_bart_1/homer26.bmp', '/content/homer_bart_1/homer27.bmp', '/content/homer_bart_1/homer28.bmp', '/content/homer_bart_1/homer29.bmp', '/content/homer_bart_1/homer3.bmp', '/content/homer_bart_1/homer30.bmp', '/content/homer_bart_1/homer31.bmp', '/content/homer_bart_1/homer32.bmp', '/content/homer_bart_1/homer33.bmp', '/content/homer_bart_1/homer34.bmp', '/content/homer_bart_1/homer35.bmp', '/content/homer_bart_1/homer36.bmp', '/content/homer_bart_1/homer37.bmp', '/content/homer_bart_1/homer38.bmp', '/content/homer_bart_1/homer4.bmp', '/content/homer_bart_1/homer40.bmp', '/content/homer_bart_1/homer41.bmp', '/content/homer_bart_1/homer43.bmp', '/content/homer_bart_1/homer44.bmp', '/content/homer_bart_1/homer45.bmp', '/content/homer_bart_1/homer46.bmp', '/content/homer_bart_1/homer47.bmp', '/content/homer_bart_1/homer48.bmp', '/content/homer_bart_1/homer49.bmp', '/content/homer_bart_1/homer5.bmp', '/content/homer_bart_1/homer50.bmp', '/content/homer_bart_1/homer51.bmp', '/content/homer_bart_1/homer52.bmp', '/content/homer_bart_1/homer54.bmp', '/content/homer_bart_1/homer55.bmp', '/content/homer_bart_1/homer56.bmp', '/content/homer_bart_1/homer57.bmp', '/content/homer_bart_1/homer58.bmp', '/content/homer_bart_1/homer59.bmp', '/content/homer_bart_1/homer6.bmp', '/content/homer_bart_1/homer60.bmp', '/content/homer_bart_1/homer61.bmp', '/content/homer_bart_1/homer62.bmp', '/content/homer_bart_1/homer63.bmp', '/content/homer_bart_1/homer65.bmp', '/content/homer_bart_1/homer66.bmp', '/content/homer_bart_1/homer68.bmp', '/content/homer_bart_1/homer69.bmp', '/content/homer_bart_1/homer7.bmp', '/content/homer_bart_1/homer70.bmp', '/content/homer_bart_1/homer71.bmp', '/content/homer_bart_1/homer72.bmp', '/content/homer_bart_1/homer73.bmp', '/content/homer_bart_1/homer74.bmp', '/content/homer_bart_1/homer75.bmp', '/content/homer_bart_1/homer76.bmp', '/content/homer_bart_1/homer77.bmp', '/content/homer_bart_1/homer78.bmp', '/content/homer_bart_1/homer79.bmp', '/content/homer_bart_1/homer8.bmp', '/content/homer_bart_1/homer80.bmp', '/content/homer_bart_1/homer81.bmp', '/content/homer_bart_1/homer82.bmp', '/content/homer_bart_1/homer83.bmp', '/content/homer_bart_1/homer84.bmp', '/content/homer_bart_1/homer85.bmp', '/content/homer_bart_1/homer86.bmp', '/content/homer_bart_1/homer87.bmp', '/content/homer_bart_1/homer9.bmp', '/content/homer_bart_1/homer90.bmp', '/content/homer_bart_1/homer91.bmp', '/content/homer_bart_1/homer92.bmp', '/content/homer_bart_1/homer93.bmp', '/content/homer_bart_1/homer94.bmp', '/content/homer_bart_1/homer95.bmp', '/content/homer_bart_1/homer96.bmp', '/content/homer_bart_1/homer97.bmp', '/content/homer_bart_1/homer98.bmp', '/content/homer_bart_1/homer99.bmp']\n"
          ]
        }
      ]
    },
    {
      "cell_type": "code",
      "source": [
        "type(arquivos)"
      ],
      "metadata": {
        "colab": {
          "base_uri": "https://localhost:8080/"
        },
        "id": "I3NXbDhx1GA8",
        "outputId": "a5684bc5-8feb-4f63-f2f5-dba2a30c4582"
      },
      "execution_count": null,
      "outputs": [
        {
          "output_type": "execute_result",
          "data": {
            "text/plain": [
              "list"
            ]
          },
          "metadata": {},
          "execution_count": 6
        }
      ]
    },
    {
      "cell_type": "code",
      "source": [
        "largura, altura = 128, 128"
      ],
      "metadata": {
        "id": "DqeZq1WT1O1i"
      },
      "execution_count": null,
      "outputs": []
    },
    {
      "cell_type": "code",
      "source": [
        "128 * 128"
      ],
      "metadata": {
        "colab": {
          "base_uri": "https://localhost:8080/"
        },
        "id": "eVDgpA5H16wi",
        "outputId": "4bcf1b75-738e-4c9e-e9db-179e9f333f15"
      },
      "execution_count": null,
      "outputs": [
        {
          "output_type": "execute_result",
          "data": {
            "text/plain": [
              "16384"
            ]
          },
          "metadata": {},
          "execution_count": 8
        }
      ]
    },
    {
      "cell_type": "code",
      "source": [
        "imagens = []\n",
        "classes = []\n"
      ],
      "metadata": {
        "id": "q-dchyFy18ia"
      },
      "execution_count": null,
      "outputs": []
    },
    {
      "cell_type": "code",
      "source": [
        "imagem.shape"
      ],
      "metadata": {
        "colab": {
          "base_uri": "https://localhost:8080/",
          "height": 165
        },
        "id": "D4Xw2m2y3eGe",
        "outputId": "16f07345-a47d-41b1-9049-92f562d4030c"
      },
      "execution_count": null,
      "outputs": [
        {
          "output_type": "error",
          "ename": "NameError",
          "evalue": "ignored",
          "traceback": [
            "\u001b[0;31m---------------------------------------------------------------------------\u001b[0m",
            "\u001b[0;31mNameError\u001b[0m                                 Traceback (most recent call last)",
            "\u001b[0;32m<ipython-input-10-608c37528026>\u001b[0m in \u001b[0;36m<module>\u001b[0;34m\u001b[0m\n\u001b[0;32m----> 1\u001b[0;31m \u001b[0mimagem\u001b[0m\u001b[0;34m.\u001b[0m\u001b[0mshape\u001b[0m\u001b[0;34m\u001b[0m\u001b[0;34m\u001b[0m\u001b[0m\n\u001b[0m",
            "\u001b[0;31mNameError\u001b[0m: name 'imagem' is not defined"
          ]
        }
      ]
    },
    {
      "cell_type": "code",
      "source": [
        "for imagem_caminho in arquivos:\n",
        "  # print(imagem)_caminho\n",
        "  try:\n",
        "    imagem = cv2.imread(imagem_caminho)\n",
        "    (H, W) = imagem.shape[:2]\n",
        "  except:\n",
        "    continue\n",
        "\n",
        "  imagem = cv2.resize(imagem, (largura, altura))\n",
        "  imagem = cv2.cvtColor(imagem, cv2.COLOR_BGR2GRAY)\n",
        "  cv2_imshow(imagem)\n",
        "\n",
        "  imagem = imagem.ravel()\n",
        "  #print(imagem.shape)\n",
        "\n",
        "  imagens.append(imagem)\n",
        "  nome_imagem = os.path.basename(os.path.normpath(imagem_caminho))\n",
        "  #print(nome_imagem)\n",
        "  if nome_imagem.startswith('b'):\n",
        "    classe = 0\n",
        "  else:\n",
        "    classe = 1\n",
        "\n",
        "  classes.append(classe)\n",
        "  print(classe)"
      ],
      "metadata": {
        "id": "jQfYtzOs2Lpa"
      },
      "execution_count": null,
      "outputs": []
    },
    {
      "cell_type": "code",
      "source": [
        "imagens"
      ],
      "metadata": {
        "id": "Qpwco3WW2cKr"
      },
      "execution_count": null,
      "outputs": []
    },
    {
      "cell_type": "code",
      "source": [
        "print(classes)"
      ],
      "metadata": {
        "id": "rirre12Y4sXM"
      },
      "execution_count": null,
      "outputs": []
    },
    {
      "cell_type": "code",
      "source": [
        "imagens[100]"
      ],
      "metadata": {
        "id": "T2kqRv8E4ura"
      },
      "execution_count": null,
      "outputs": []
    },
    {
      "cell_type": "code",
      "source": [
        "imagens[100], classes[100]"
      ],
      "metadata": {
        "id": "sUi5tusy4w4z"
      },
      "execution_count": null,
      "outputs": []
    },
    {
      "cell_type": "code",
      "source": [
        "imagens[200], classes[200]"
      ],
      "metadata": {
        "id": "b0DgL06f43eq"
      },
      "execution_count": null,
      "outputs": []
    },
    {
      "cell_type": "code",
      "source": [
        "type(imagens), type(classes)"
      ],
      "metadata": {
        "id": "SVrpC9jY47LK"
      },
      "execution_count": null,
      "outputs": []
    },
    {
      "cell_type": "code",
      "source": [
        "X = np.asarray(imagens)\n",
        "y = np.asarray(classes)"
      ],
      "metadata": {
        "id": "ZEFm6iy15ALq"
      },
      "execution_count": null,
      "outputs": []
    },
    {
      "cell_type": "code",
      "source": [
        "type(X), type(y)"
      ],
      "metadata": {
        "id": "zW_47if95Q96"
      },
      "execution_count": null,
      "outputs": []
    },
    {
      "cell_type": "code",
      "source": [
        "X.shape"
      ],
      "metadata": {
        "id": "_kL1jVXv5S1i"
      },
      "execution_count": null,
      "outputs": []
    },
    {
      "cell_type": "code",
      "source": [
        "y.shape"
      ],
      "metadata": {
        "id": "sj_m8Yh75UGS"
      },
      "execution_count": null,
      "outputs": []
    },
    {
      "cell_type": "code",
      "source": [
        "sns.countplot(y)"
      ],
      "metadata": {
        "id": "LbvhQuNA5Y9r"
      },
      "execution_count": null,
      "outputs": []
    },
    {
      "cell_type": "code",
      "source": [
        "np.unique(y, return_counts=True)"
      ],
      "metadata": {
        "id": "HZyqeM3G5qaT"
      },
      "execution_count": null,
      "outputs": []
    },
    {
      "cell_type": "code",
      "source": [
        "# Normalização dos dados\n",
        "X[0]"
      ],
      "metadata": {
        "id": "x3f-mXwm5yM6"
      },
      "execution_count": null,
      "outputs": []
    },
    {
      "cell_type": "code",
      "source": [
        "X[0].max(), X[0].min()"
      ],
      "metadata": {
        "id": "QMMZN5Y16f47"
      },
      "execution_count": null,
      "outputs": []
    },
    {
      "cell_type": "code",
      "source": [
        "from sklearn.preprocessing import MinMaxScaler\n",
        "scaler = MinMaxScaler()\n",
        "X = scaler.fit_transform(X)"
      ],
      "metadata": {
        "id": "vgDv0j6o6h_b"
      },
      "execution_count": null,
      "outputs": []
    },
    {
      "cell_type": "code",
      "source": [
        "X[0].max(), X[0].min()"
      ],
      "metadata": {
        "id": "itvdWMQ569ob"
      },
      "execution_count": null,
      "outputs": []
    },
    {
      "cell_type": "code",
      "source": [
        "X[1]"
      ],
      "metadata": {
        "id": "WuYvejou7AZy"
      },
      "execution_count": null,
      "outputs": []
    },
    {
      "cell_type": "code",
      "source": [
        "# Bases de treinamento e teste\n",
        "X.shape"
      ],
      "metadata": {
        "id": "BVxThb4d7KCS"
      },
      "execution_count": null,
      "outputs": []
    },
    {
      "cell_type": "code",
      "source": [
        "from sklearn.model_selection import train_test_split"
      ],
      "metadata": {
        "id": "mJvoV8YX7sLj"
      },
      "execution_count": null,
      "outputs": []
    },
    {
      "cell_type": "code",
      "source": [
        "X_treinamento, X_teste, y_treinamento, y_teste = train_test_split(X, y, test_size = 0.2, random_state = 1)"
      ],
      "metadata": {
        "id": "z4ynISd97y1c"
      },
      "execution_count": null,
      "outputs": []
    },
    {
      "cell_type": "code",
      "source": [
        "X_treinamento"
      ],
      "metadata": {
        "id": "R6idkMod8XA6"
      },
      "execution_count": null,
      "outputs": []
    },
    {
      "cell_type": "code",
      "source": [
        "X_treinamento.shape, y_treinamento"
      ],
      "metadata": {
        "id": "1SjB9iZ6885S"
      },
      "execution_count": null,
      "outputs": []
    },
    {
      "cell_type": "code",
      "source": [
        "X_teste.shape, y_teste.shape"
      ],
      "metadata": {
        "id": "-hKXzqV89Ciy"
      },
      "execution_count": null,
      "outputs": []
    },
    {
      "cell_type": "code",
      "source": [
        "(16384 + 2)/2"
      ],
      "metadata": {
        "id": "CecoCS2F-JWJ"
      },
      "execution_count": null,
      "outputs": []
    },
    {
      "cell_type": "code",
      "source": [
        "# Construção e treinamento da rede neural\n",
        "# 16384 -> 8193 (neuronios)\n",
        "network1 = tf.keras.models.Sequential()\n",
        "network1.add(tf.keras.layers.Dense(input_shape = (16384,), units=8193, activation='relu'))\n",
        "network1.add(tf.keras.layers.Dense(units = 8193, activation='relu'))\n",
        "network1.add(tf.keras.layers.Dense(units = 1, activation='sigmoid'))"
      ],
      "metadata": {
        "id": "qVh_3WCO9Lya"
      },
      "execution_count": null,
      "outputs": []
    },
    {
      "cell_type": "code",
      "source": [
        "network1.summary()"
      ],
      "metadata": {
        "id": "FH3grntY_DOV"
      },
      "execution_count": null,
      "outputs": []
    },
    {
      "cell_type": "code",
      "source": [
        "# https://keras.io/api/optimizers\n",
        "# https://keras.io/api/losses\n",
        "network1.compile(optimizer='Adam', loss='binary_crossentropy', metrics=['accuracy'])"
      ],
      "metadata": {
        "id": "bDcMGzNz_JrT"
      },
      "execution_count": null,
      "outputs": []
    },
    {
      "cell_type": "code",
      "source": [
        "historico = network1.fit(X_treinamento, y_treinamento, epochs=50)"
      ],
      "metadata": {
        "id": "1tUj3r9J_10W"
      },
      "execution_count": null,
      "outputs": []
    },
    {
      "cell_type": "code",
      "source": [
        "# Avaliação da rede neural\n",
        "historico.history.keys()"
      ],
      "metadata": {
        "id": "7gTWvHPAACNq"
      },
      "execution_count": null,
      "outputs": []
    },
    {
      "cell_type": "code",
      "source": [
        "plt.plot(historico.history['loss'])"
      ],
      "metadata": {
        "id": "9FAF8uRxS1kM"
      },
      "execution_count": null,
      "outputs": []
    },
    {
      "cell_type": "code",
      "source": [
        "plt.plot(historico.history['accuracy'])"
      ],
      "metadata": {
        "id": "HfVBhUKQTWUc"
      },
      "execution_count": null,
      "outputs": []
    },
    {
      "cell_type": "code",
      "source": [
        "X_teste.shape"
      ],
      "metadata": {
        "id": "6AwpUjHFTeN8"
      },
      "execution_count": null,
      "outputs": []
    },
    {
      "cell_type": "code",
      "source": [
        "previsoes = network1.predict(X_teste)\n",
        "previsoes"
      ],
      "metadata": {
        "id": "slVfr5N3Tlpc"
      },
      "execution_count": null,
      "outputs": []
    },
    {
      "cell_type": "code",
      "source": [
        "# 0 False Bart\n",
        "# 1 True Hommer\n",
        "previsoes = (previsoes > 0.5)\n",
        "previsoes"
      ],
      "metadata": {
        "id": "NR13_cGwT0cr"
      },
      "execution_count": null,
      "outputs": []
    },
    {
      "cell_type": "code",
      "source": [
        "y_teste"
      ],
      "metadata": {
        "id": "gpCJSDKyT-Ps"
      },
      "execution_count": null,
      "outputs": []
    },
    {
      "cell_type": "code",
      "source": [
        "from sklearn.metrics import accuracy_score\n",
        "accuracy_score(y_teste, previsoes)"
      ],
      "metadata": {
        "id": "SO6BEnOAUXSz"
      },
      "execution_count": null,
      "outputs": []
    },
    {
      "cell_type": "code",
      "source": [
        "from sklearn.metrics import confusion_matrix\n",
        "cm = confusion_matrix(y_teste, previsoes)\n",
        "cm"
      ],
      "metadata": {
        "id": "aM4jsq-MUxgt"
      },
      "execution_count": null,
      "outputs": []
    },
    {
      "cell_type": "code",
      "source": [
        "sns.heatmap(cm, annot=True)"
      ],
      "metadata": {
        "id": "Jtr5lLBBVKg0"
      },
      "execution_count": null,
      "outputs": []
    },
    {
      "cell_type": "code",
      "source": [
        "from sklearn.metrics import classification_report\n",
        "print(classification_report(y_teste, previsoes))"
      ],
      "metadata": {
        "id": "ebUdh5OyVOKD"
      },
      "execution_count": null,
      "outputs": []
    },
    {
      "cell_type": "code",
      "source": [
        "# Salvar e Carregar a rede neural\n",
        "model_json = network1.to_json()\n",
        "with open('network1.json', 'w') as json_file:\n",
        "  json_file.write(model_json)"
      ],
      "metadata": {
        "id": "JtpCl9kiVhVt"
      },
      "execution_count": null,
      "outputs": []
    },
    {
      "cell_type": "code",
      "source": [
        "from keras.models import save_model\n",
        "network1_saved = save_model(network1, 'weights1.hdf5')"
      ],
      "metadata": {
        "id": "c5wX6EkhWUdO"
      },
      "execution_count": null,
      "outputs": []
    },
    {
      "cell_type": "code",
      "source": [
        "with open('network1.json') as json_file:\n",
        "  json_saved_model = json_file.read()\n",
        "json_saved_model"
      ],
      "metadata": {
        "id": "lEgubO85WoXr"
      },
      "execution_count": null,
      "outputs": []
    },
    {
      "cell_type": "code",
      "source": [
        "network1_loaded = tf.keras.models.model_from_json(json_saved_model)\n",
        "network1_loaded.load_weights('/content/weights1.hdf5')\n",
        "network1_loaded.compile(loss='binary_crossentropy', optimizer='Adam', metrics=['accuracy'])"
      ],
      "metadata": {
        "id": "W1hr1bG3XCZF"
      },
      "execution_count": null,
      "outputs": []
    },
    {
      "cell_type": "code",
      "source": [
        "network1_loaded.summary()"
      ],
      "metadata": {
        "id": "aVIZDkiBXfRU"
      },
      "execution_count": null,
      "outputs": []
    },
    {
      "cell_type": "code",
      "source": [
        "# Classificação de uma única imagem\n",
        "X_teste[0], y_teste[0] # Bart"
      ],
      "metadata": {
        "id": "R6EvsuF4XvMC"
      },
      "execution_count": null,
      "outputs": []
    },
    {
      "cell_type": "code",
      "source": [
        "X_teste[0].shape"
      ],
      "metadata": {
        "id": "o0A9t2ZuX6Qc"
      },
      "execution_count": null,
      "outputs": []
    },
    {
      "cell_type": "code",
      "source": [
        "cv2_imshow(X_teste[0].reshape(128,128))"
      ],
      "metadata": {
        "id": "wM5P-0B1X99s"
      },
      "execution_count": null,
      "outputs": []
    },
    {
      "cell_type": "code",
      "source": [
        "imagem_teste = X_teste[34] # Estava 0\n",
        "imagem_teste = scaler.inverse_transform(imagem_teste.reshape(1, -1))"
      ],
      "metadata": {
        "id": "Ltrd4zB-YKPN"
      },
      "execution_count": null,
      "outputs": []
    },
    {
      "cell_type": "code",
      "source": [
        "imagem_teste"
      ],
      "metadata": {
        "id": "7Sa4WmNNYkF1"
      },
      "execution_count": null,
      "outputs": []
    },
    {
      "cell_type": "code",
      "source": [
        "cv2_imshow(imagem_teste.reshape(128,128))"
      ],
      "metadata": {
        "id": "TDEIBGBYYlqs"
      },
      "execution_count": null,
      "outputs": []
    },
    {
      "cell_type": "code",
      "source": [
        "network1_loaded.predict(imagem_teste)[0][0]"
      ],
      "metadata": {
        "id": "jQWya_hCYrR9"
      },
      "execution_count": null,
      "outputs": []
    },
    {
      "cell_type": "code",
      "source": [
        "if network1_loaded.predict(imagem_teste)[0][0] < 0.5:\n",
        "  print('Bart')\n",
        "else:\n",
        "  print('Homer')"
      ],
      "metadata": {
        "id": "FmBClUkxYyZr"
      },
      "execution_count": null,
      "outputs": []
    },
    {
      "cell_type": "code",
      "source": [],
      "metadata": {
        "id": "vTAz7q1iZAEc"
      },
      "execution_count": null,
      "outputs": []
    }
  ]
}